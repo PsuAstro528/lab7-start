{
 "cells": [
  {
   "cell_type": "markdown",
   "metadata": {},
   "source": [
    "# Astro 528, Lab 7, Exercise 2\n",
    "## Parallelization for Cluster using Distributed-Memory Model\n",
    "\n",
    "In this lab exercise, we'll perform the calculations very similar to those of exercise 2 of lab 5.  However, instead of using a multi-core workstation, we will [run the calculations on the ICDS Roar Collab cluster](https://www.icds.psu.edu/roar-collab-user-guide/) using a distributed memory model.  \n",
    "\n",
    "You're welcome to run this notebook one cell at a time as in other labs to see how it works.  However, the main point of this lab is to see how to run such a calculation in parallel over multiple processor cores that are not necessarily on the same processor.  Therefore, you'll use the command line interface to submit the jobs [ex2.pbs](https://github.com/PsuAstro528/lab7-start/blob/main/ex2.slurm).  Follow the instructions in the [lab's README](https://github.com/PsuAstro528/lab7-start/blob/main/README.md)"
   ]
  },
  {
   "cell_type": "code",
   "execution_count": 1,
   "metadata": {
    "ExecuteTime": {
     "end_time": "2019-02-25T02:17:42.438000-05:00",
     "start_time": "2019-02-25T07:17:40.141Z"
    }
   },
   "outputs": [
    {
     "name": "stderr",
     "output_type": "stream",
     "text": [
      "\u001b[32m\u001b[1m  Activating\u001b[22m\u001b[39m project at `/storage/work/ebf11/Teach/Astro528/Fall2023/lab7-start`\n",
      "\u001b[32m\u001b[1mPrecompiling\u001b[22m\u001b[39m project...\n",
      "\u001b[32m  ✓ \u001b[39m\u001b[90mPlots → UnitfulExt\u001b[39m\n",
      "  1 dependency successfully precompiled in 6 seconds. 200 already precompiled.\n"
     ]
    }
   ],
   "source": [
    "# Just in case you're running this from JupyterLab\n",
    "import Pkg\n",
    "Pkg.UPDATED_REGISTRY_THIS_SESSION[] = true   \n",
    "Pkg.activate(\".\")\n",
    "# Shouldn't need to instantiate the project, since you'll have already run as part of exercise 1.  But I'll default to running it just in case.\n",
    "Pkg.instantiate()\n",
    "# Again, just being extra careful to make sure everything is precompiled by delegator process before assigning work to worker proceses\n",
    "Pkg.precompile()"
   ]
  },
  {
   "cell_type": "markdown",
   "metadata": {},
   "source": [
    "Remember, packages are installed to disk and the Roar Collab nodes all see the same file systems, so you only want to run `instantiate` and `precompile` once by the delegator process, so multiple workers don't try to compile the same package at the same time.\n"
   ]
  },
  {
   "cell_type": "markdown",
   "metadata": {},
   "source": [
    "### Getting setup for parallel computation\n",
    "First, we'll load Julia's `Distributed` module that provides much of the needed functionality for multi-processing.  If julia doesn't already have multiple worker threads, then we'll try to start some. "
   ]
  },
  {
   "cell_type": "code",
   "execution_count": 2,
   "metadata": {},
   "outputs": [
    {
     "name": "stdout",
     "output_type": "stream",
     "text": [
      "# Julia is using 1 workers.\n"
     ]
    }
   ],
   "source": [
    "using Distributed, CpuId\n",
    "println(\"# Julia is using \", nworkers(), \" workers.\")"
   ]
  },
  {
   "cell_type": "code",
   "execution_count": 3,
   "metadata": {},
   "outputs": [
    {
     "name": "stderr",
     "output_type": "stream",
     "text": [
      "\u001b[33m\u001b[1m┌ \u001b[22m\u001b[39m\u001b[33m\u001b[1mWarning: \u001b[22m\u001b[39mSince there's only one worker, I'm guessing you're running this from inside JupyterLab rather than a dedicated slurm job.\n",
      "\u001b[33m\u001b[1m└ \u001b[22m\u001b[39m\u001b[90m@ Main In[3]:3\u001b[39m\n"
     ]
    },
    {
     "data": {
      "text/plain": [
       "4-element Vector{Int64}:\n",
       " 2\n",
       " 3\n",
       " 4\n",
       " 5"
      ]
     },
     "execution_count": 3,
     "metadata": {},
     "output_type": "execute_result"
    }
   ],
   "source": [
    "if nworkers() == 1\n",
    "    if haskey(ENV,\"SLURM_CPUS_PER_TASK\")\n",
    "        @warn \"Since there's only one worker, I'm guessing you're running this from inside JupyterLab rather than a dedicated slurm job.\"\n",
    "        cores_for_job = parse(Int,ENV[\"SLURM_CPUS_PER_TASK\"])\n",
    "        addprocs(cores_for_job)\n",
    "    elseif haskey(ENV,\"GITHUB_ACTION\")   \n",
    "        @warn \"Not adding any worker processes since running on GitHub.\"\n",
    "    else \n",
    "        @warn \"It appears this is not running on Roar Collab.  So we'll add one worker process for each physical core.\"\n",
    "        addprocs(cpucores())\n",
    "    end\n",
    "end"
   ]
  },
  {
   "cell_type": "code",
   "execution_count": 4,
   "metadata": {},
   "outputs": [
    {
     "name": "stdout",
     "output_type": "stream",
     "text": [
      "# Now Julia is using 4 workers.\n"
     ]
    }
   ],
   "source": [
    "println(\"# Now Julia is using \", nworkers(), \" workers.\")"
   ]
  },
  {
   "cell_type": "markdown",
   "metadata": {},
   "source": [
    "### Loading Packages and modules\n",
    "Now, we can start loading other packages that we'll be using for our actual calculations.  \n",
    "First, we'll load the CSV and DataFrames packages that only need to be loaded by the delegator process.\n"
   ]
  },
  {
   "cell_type": "code",
   "execution_count": 5,
   "metadata": {
    "ExecuteTime": {
     "end_time": "2019-02-25T02:17:49.984000-05:00",
     "start_time": "2019-02-25T07:17:40.143Z"
    }
   },
   "outputs": [],
   "source": [
    "using CSV, DataFrames"
   ]
  },
  {
   "cell_type": "markdown",
   "metadata": {},
   "source": [
    "For other packages (here Distributions, DistributedArrays and ParallelDataTransfer), we want the packages to be in scope on each worker.  Therefore, need to add the `@everywhere` macro in front of the `using` statement.  "
   ]
  },
  {
   "cell_type": "code",
   "execution_count": 6,
   "metadata": {
    "ExecuteTime": {
     "end_time": "2019-02-25T02:18:01.598000-05:00",
     "start_time": "2019-02-25T07:17:40.150Z"
    }
   },
   "outputs": [],
   "source": [
    "@everywhere using Distributions\n",
    "@everywhere using DistributedArrays\n",
    "@everywhere using ParallelDataTransfer"
   ]
  },
  {
   "cell_type": "markdown",
   "metadata": {},
   "source": [
    "For this lab, I've written several functions that will be used to generate simulated spectra.  This serves a couple of purposes.\n",
    "First, you'll use the code in the exercise, so you have a calculation that's big enough to be worth parallelizing.  For the purposes of this exercise, it's not essential that you review the code I provided in `.jl` files.  However, the second purpose of providing this is to demonstrate several of the programming patterns that we've discussed in class.  For example, the code in the `lab7` module\n",
    "- is in the form of several small functions, each which does one specific task.  \n",
    "- has been moved out of the Jupyter notebook and into `.jl` files in the `src` directory.\n",
    "- creates custom types for objectstaht represent spectra and a convolution kernel.\n",
    "- uses [abstract types](https://docs.julialang.org/en/v1/manual/types/#Abstract-Types-1), [parametric types](https://docs.julialang.org/en/v1/manual/types/#Parametric-Types-1), and type-stable functions. \n",
    "- has been  put into a Julia [module](https://docs.julialang.org/en/v1/manual/modules/index.html), so that it can be easily loaded and so as to limit potential for namespace conflicts.\n",
    "\n",
    "You don't need to read all of this code right now.  But, when you're writing code for your class project, you're likely to want to make use of some of these same programming patterns. So, it may be useful to refer back to this code later to help see examples of how to apply these design patterns in practice.  \n",
    "        \n",
    "For now, let's include just the file that has the code for the `lab7` module.  `src/lab7.jl` includes the code from the other files.  We'll preface it with `@everywhere`, since we want all of the processors to be able to make use of these function and types."
   ]
  },
  {
   "cell_type": "code",
   "execution_count": 7,
   "metadata": {
    "ExecuteTime": {
     "end_time": "2019-02-25T02:18:03.022000-05:00",
     "start_time": "2019-02-25T07:17:40.153Z"
    }
   },
   "outputs": [],
   "source": [
    "@everywhere include(\"src/lab7.jl\")"
   ]
  },
  {
   "cell_type": "markdown",
   "metadata": {},
   "source": [
    "Now, we'll bring that module into scope on each worker process.  Note that since this is not a package, we need to include a `.` to tell Julia that it should load a module in the current namespace, rather than needing to load a package from among those in the general Julia registry."
   ]
  },
  {
   "cell_type": "code",
   "execution_count": 8,
   "metadata": {
    "ExecuteTime": {
     "end_time": "2019-02-25T02:18:03.023000-05:00",
     "start_time": "2019-02-25T07:17:40.155Z"
    }
   },
   "outputs": [],
   "source": [
    "@everywhere using .lab7"
   ]
  },
  {
   "cell_type": "markdown",
   "metadata": {},
   "source": [
    "### Initialize data to be analyzed\n",
    "In this exercise, we're going to create a model spectrum consisting of continuum, stellar absorption lines, telluric absorption lines.  \n",
    "The `lab7` module provides a `SimulatedSpectrum` type, but we'll need to initialize a variable with some specific parameter values.  The function does that for us."
   ]
  },
  {
   "cell_type": "code",
   "execution_count": 9,
   "metadata": {
    "ExecuteTime": {
     "end_time": "2019-02-25T02:18:03.506000-05:00",
     "start_time": "2019-02-25T07:17:40.157Z"
    }
   },
   "outputs": [
    {
     "data": {
      "text/plain": [
       "make_spectrum_object"
      ]
     },
     "execution_count": 9,
     "metadata": {},
     "output_type": "execute_result"
    }
   ],
   "source": [
    "\"Create an object that provides a model for the raw spetrum (i.e., before entering the telescope)\"\n",
    "function make_spectrum_object(;lambda_min = 4500, lambda_max = 7500, flux_scale = 1.0,\n",
    "        num_star_lines = 200, num_telluric_lines = 100, limit_line_effect = 10.0)\n",
    "\n",
    "    continuum_param = flux_scale .* [1.0, 1e-5, -2e-8]\n",
    "    \n",
    "    star_line_locs = rand(Uniform(lambda_min,lambda_max),num_star_lines)\n",
    "    star_line_widths = fill(1.0,num_star_lines)\n",
    "    star_line_depths = rand(Uniform(0,1.0),num_star_lines)\n",
    "    \n",
    "    telluric_line_locs = rand(Uniform(lambda_min,lambda_max),num_telluric_lines)\n",
    "    telluric_line_widths = fill(0.2,num_telluric_lines)\n",
    "    telluric_line_depths = rand(Uniform(0,0.4),num_telluric_lines)\n",
    "\n",
    "    SimulatedSpectrum(star_line_locs,star_line_widths,star_line_depths,telluric_line_locs,telluric_line_widths,telluric_line_depths,continuum_param=continuum_param,lambda_mid=0.5*(lambda_min+lambda_max),limit_line_effect=limit_line_effect)\n",
    "end"
   ]
  },
  {
   "cell_type": "markdown",
   "metadata": {},
   "source": [
    "Next, we: \n",
    "1. create a set of wavelengths to observe the spectrum at, \n",
    "2. call the function above to create a spectrum object, \n",
    "3. create an object containing a model for the point spread function, and \n",
    "4. create an object that can compute the convolution of our spectral model with the point spread function model."
   ]
  },
  {
   "cell_type": "code",
   "execution_count": 10,
   "metadata": {
    "ExecuteTime": {
     "end_time": "2019-02-25T02:18:05.032000-05:00",
     "start_time": "2019-02-25T07:17:40.159Z"
    }
   },
   "outputs": [
    {
     "data": {
      "text/plain": [
       "ConvolvedSpectrum{SimulatedSpectrum{Float64, Float64, Float64, Float64, Float64, Float64, Float64, Float64, Float64}, GaussianMixtureConvolutionKernel{Float64, Float64}}(SimulatedSpectrum{Float64, Float64, Float64, Float64, Float64, Float64, Float64, Float64, Float64}([7197.0172493305145, 6538.522440130499, 4736.995892642681, 6004.53321702588, 4889.882749583872, 6495.340600305344, 7024.0860358376, 5051.777424978991, 6176.68587204497, 6244.942752471236  …  5373.7781463943775, 6871.700347411814, 7204.7984326723235, 5428.016969475542, 7377.054170071836, 6167.45478301952, 6259.105798393697, 7144.84812752875, 5750.996023523811, 7385.126274484974], [1.0, 1.0, 1.0, 1.0, 1.0, 1.0, 1.0, 1.0, 1.0, 1.0  …  1.0, 1.0, 1.0, 1.0, 1.0, 1.0, 1.0, 1.0, 1.0, 1.0], [0.5457049130398451, 0.446732249022175, 0.4365719702735883, 0.8039677537627838, 0.9358645878618987, 0.8758104087150944, 0.10835427346926363, 0.5770569573630404, 0.8255083026316579, 0.04007885198343242  …  0.5196215329276674, 0.5367234218026671, 0.25470578910680397, 0.17340248883609233, 0.9239559381540916, 0.41285000305208175, 0.13851033332902352, 0.4832015573410655, 0.12490612199650897, 0.22556363417351966], [7339.058487291884, 6254.359103955241, 6980.719383023215, 7218.585475272848, 7220.5216181446485, 4554.958197193546, 6687.086229784416, 4608.075108352939, 5927.680692942654, 5845.5138410690015  …  4975.428890414755, 4857.095199659436, 5881.7578969979095, 5699.842142451482, 5852.581069037189, 4796.95604462909, 6184.735920565404, 6678.430668752893, 5036.871828091287, 5030.69999192155], [0.2, 0.2, 0.2, 0.2, 0.2, 0.2, 0.2, 0.2, 0.2, 0.2  …  0.2, 0.2, 0.2, 0.2, 0.2, 0.2, 0.2, 0.2, 0.2, 0.2], [0.2284337619697869, 0.17909967547698857, 0.3501696722805442, 0.3579264038754118, 0.3248110998544178, 0.39308242102189445, 0.3357798051725843, 0.1439720718420539, 0.2979073961797934, 0.2033899700825361  …  0.35750114180273124, 0.03790585171444612, 0.36466029448235937, 0.02274310677432685, 0.28915649303218416, 0.21645521343199914, 0.0676019907103568, 0.005722466722583076, 0.00011696093596875735, 0.38608054490301846], [1.0, 1.0e-5, -2.0e-8], 0.0, 6000.0, 10.0), GaussianMixtureConvolutionKernel{Float64, Float64}(Normal{Float64}[Normal{Float64}(μ=0.0, σ=0.5), Normal{Float64}(μ=0.0, σ=1.0), Normal{Float64}(μ=0.0, σ=2.0)], [0.8, 0.15, 0.05], 1.0000000143325827, 10.0), 10.0)"
      ]
     },
     "execution_count": 10,
     "metadata": {},
     "output_type": "execute_result"
    }
   ],
   "source": [
    "# 1.  Pick range of of wavelength to work on.\n",
    "lambda_min = 4500.0\n",
    "lambda_max = 7500.0\n",
    "# You may want to adjust the num_lambda to make things more/less computationally intensive\n",
    "num_lambda = 128*1024\n",
    "lambdas = collect(range(lambda_min,stop=lambda_max, length=num_lambda));\n",
    "\n",
    "# 2.  Create a model  spectrum that we'll analyze below\n",
    "raw_spectrum = make_spectrum_object(lambda_min=lambda_min,lambda_max=lambda_max)\n",
    "\n",
    "# 3.  Create a model for the point spread function (PSF)\n",
    "psf_widths  = [0.5, 1.0, 2.0]\n",
    "psf_weights = [0.8, 0.15, 0.05]\n",
    "psf_model = GaussianMixtureConvolutionKernel(psf_widths,psf_weights)\n",
    "\n",
    "# 4. Create a model for the the convolution of thte raw spectrum with the PDF model\n",
    "conv_spectrum = ConvolvedSpectrum(raw_spectrum,psf_model)"
   ]
  },
  {
   "cell_type": "markdown",
   "metadata": {},
   "source": [
    "### Benchmarking serial code\n",
    "\n",
    "*If the current job has just one worker process,* then we'll benchmark the calculation of this spectrum on a single processor.  Based on performance results from lab 5, we'll make use of Julia's [dot syntax](https://docs.julialang.org/en/v1/manual/functions/#man-vectorized-1) to [\"broadcast\" and \"fuse\"](https://docs.julialang.org/en/v1/base/arrays/#Broadcast-and-vectorization-1) the array operation.    We'll run it just a few times (rather than using `@btime`).  Since the rest of the notebook is meant for distributed computing, it doesn't make sense to keep running.  We'll tell it to exit here if it's just running the automated tests on GitHub.  Before we do, we'll flush the buffer, so any messages are written to `STDOUT` before the kernel exits.|"
   ]
  },
  {
   "cell_type": "code",
   "execution_count": 11,
   "metadata": {
    "ExecuteTime": {
     "end_time": "2019-02-25T02:18:05.217000-05:00",
     "start_time": "2019-02-25T07:17:40.160Z"
    }
   },
   "outputs": [],
   "source": [
    "num_runs = 2\n",
    "if nworkers() == 1    \n",
    "    @warn \"Since there's only one worker process, the distributed computing examples below won't actually run in parallel.\"\n",
    "    for i in 1:num_runs @time conv_spectrum.(lambdas); end\n",
    "    flush(stdout) # flush buffer before the kernel exits\n",
    "    sleep(1)      # wait for one second just to make sure\n",
    "    if haskey(ENV,\"GITHUB_ACTION\")                                               \n",
    "        exit(0)      # Don't try to do parallel work in GitHub actions\n",
    "    end\n",
    "end"
   ]
  },
  {
   "cell_type": "markdown",
   "metadata": {},
   "source": [
    "### Distributed Arrays\n",
    "Here, we want to spread the work over processor cores than are not necessarily on the same node, so we need to use a [distributed memory system](https://en.wikipedia.org/wiki/Distributed_memory).  This would be necessary if you wanted your job to run on more cores than are available on a single node.  It could also be useful if you wanted to increase the chances that the scheduler starts your job more quickly, since asking for several processors cores that don't need to be on the same node is easier to accommodate than asking for the same number of cores on a single node.  Here we'll use Julia's [DistributedArrays.jl](https://juliaparallel.github.io/DistributedArrays.jl/latest/index.html) package to make programming for distributed memory systems relatively easy.  \n",
    "\n",
    "Here we'll create a distributed array by simply applying `distribute` to our existing array of wavelengths.  (Remember that we could initialize a `DArray` more efficiently be letting each workers initializes its own data.  For convenience functions like `dzeros`, `dones`, `drand`, `drandn` and `dfill` act similarly to their counterparts without a `d` prefix, but create DArrays instead of regular Arrays.) "
   ]
  },
  {
   "cell_type": "code",
   "execution_count": 12,
   "metadata": {
    "ExecuteTime": {
     "end_time": "2019-02-25T02:18:07.340000-05:00",
     "start_time": "2019-02-25T07:17:40.163Z"
    }
   },
   "outputs": [],
   "source": [
    "lambdas_dist = distribute(lambdas);"
   ]
  },
  {
   "cell_type": "markdown",
   "metadata": {},
   "source": [
    "As usual, the first time we call a function, it takes some extra time and memory to compile it.  So let's do that again, this time benchmarking the `distribute` operation."
   ]
  },
  {
   "cell_type": "code",
   "execution_count": 13,
   "metadata": {
    "ExecuteTime": {
     "end_time": "2019-02-25T02:18:07.393000-05:00",
     "start_time": "2019-02-25T07:17:40.165Z"
    }
   },
   "outputs": [
    {
     "name": "stdout",
     "output_type": "stream",
     "text": [
      "# Timing calls to distribute.\n",
      "  0.001441 seconds (514 allocations: 1.023 MiB)\n"
     ]
    }
   ],
   "source": [
    "println(\"# Timing calls to distribute.\")\n",
    "@time lambdas_dist = distribute(lambdas);"
   ]
  },
  {
   "cell_type": "markdown",
   "metadata": {},
   "source": [
    "Below we will apply `map` to a `lambda_dist`, which is a `DArray`.  `map` will parallelize the calculation and return the results in a `DArray`.  Each worker operates on the subset of the array that is local to that worker process. "
   ]
  },
  {
   "cell_type": "code",
   "execution_count": 14,
   "metadata": {
    "ExecuteTime": {
     "end_time": "2019-02-25T02:19:09.082000-05:00",
     "start_time": "2019-02-25T07:17:40.167Z"
    }
   },
   "outputs": [
    {
     "name": "stdout",
     "output_type": "stream",
     "text": [
      "# Timing calls to map(...).\n",
      "  6.610047 seconds (613.16 k allocations: 41.122 MiB, 0.31% gc time, 5.98% compilation time)\n",
      "  4.180492 seconds (925 allocations: 81.656 KiB)\n"
     ]
    }
   ],
   "source": [
    "println(\"# Timing calls to map(...).\")\n",
    "for i in 1:num_runs \n",
    "    @time map(conv_spectrum,lambdas_dist) \n",
    "end"
   ]
  },
  {
   "cell_type": "markdown",
   "metadata": {},
   "source": [
    "In the cell above, we left the results with the workers, rather than copying the results back to the delegator process.\n",
    "In the cell below, we will call `collect` the data in order to copy all the data back to to the delegator process.  "
   ]
  },
  {
   "cell_type": "code",
   "execution_count": 15,
   "metadata": {
    "ExecuteTime": {
     "end_time": "2019-02-25T02:19:09.082000-05:00",
     "start_time": "2019-02-25T07:17:40.167Z"
    }
   },
   "outputs": [
    {
     "name": "stdout",
     "output_type": "stream",
     "text": [
      "# Timing calls to collect(map(...)).\n",
      " 12.293929 seconds (7.36 M allocations: 264.361 MiB, 0.83% gc time, 1.37% compilation time)\n",
      " 12.241919 seconds (7.11 M allocations: 247.650 MiB, 0.55% gc time)\n"
     ]
    }
   ],
   "source": [
    "println(\"# Timing calls to collect(map(...)).\")\n",
    "for i in 1:num_runs \n",
    "    @time collect(map(conv_spectrum,lambdas_dist)) \n",
    "end"
   ]
  },
  {
   "cell_type": "markdown",
   "metadata": {},
   "source": [
    "Copying all that data back for the delegator process to access added a significant amount to the total time.\n",
    "Sometimes you don't actually need to bring all the data back to the delegator process.  For example, you might have several calculations that can be done, each leaving the data distributed across many workers, until the very end.  We'll demonstrate that next.\n",
    "\n",
    "Imagine that we only wanted to compute the total flux within a filter bandpass (i.e., range of wavelengths).  Then we could write a function that determine each wavelength is inside the filter bandpass.  Then each worker could use that function to determine which points fall within the filter and return only the summed flux to reduce the amount of communications overhead.\n",
    "\n",
    "First, we'll want to tell each worker process what range of wavelengths to sum over.  To simplify the syntax, I'm using the [ParallelDataTransfer.jl](https://github.com/ChrisRackauckas/ParallelDataTransfer.jl) package's `sendto` function to explictly send data from the delegator to each of the worker processes."
   ]
  },
  {
   "cell_type": "code",
   "execution_count": 16,
   "metadata": {},
   "outputs": [],
   "source": [
    "sendto(workers(), lambda_min=lambda_min)"
   ]
  },
  {
   "cell_type": "code",
   "execution_count": 17,
   "metadata": {},
   "outputs": [],
   "source": [
    "sendto(workers(), lambda_max=lambda_min+100)"
   ]
  },
  {
   "cell_type": "markdown",
   "metadata": {},
   "source": [
    "Note that different processors can have different values stored in the same variable name.  For example above, we send `lambda_max` on the worker process to a different value than on the delegator process, as verified below."
   ]
  },
  {
   "cell_type": "code",
   "execution_count": 18,
   "metadata": {},
   "outputs": [
    {
     "data": {
      "text/plain": [
       "7500.0"
      ]
     },
     "execution_count": 18,
     "metadata": {},
     "output_type": "execute_result"
    }
   ],
   "source": [
    "lambda_max"
   ]
  },
  {
   "cell_type": "code",
   "execution_count": 19,
   "metadata": {},
   "outputs": [
    {
     "data": {
      "text/plain": [
       "4600.0"
      ]
     },
     "execution_count": 19,
     "metadata": {},
     "output_type": "execute_result"
    }
   ],
   "source": [
    "@getfrom first(workers()) lambda_max"
   ]
  },
  {
   "cell_type": "markdown",
   "metadata": {},
   "source": [
    "Sometimes that can be helpful (i.e., each worker can process data using its own variables without interfereing with other processes).  But sometimes that can be create confusion and bugs.  It's very easy to write bugs when using unconstrained parallel programming.  \n",
    "\n",
    "In order to ease the development, debugging and maintance of parallel code, it's best to use common patterns when possible. \n",
    "For example, one common scenario is that you want to performing a task that can be phrased as a [`mapreduce`](https://en.wikipedia.org/wiki/MapReduce) programming pattern.  "
   ]
  },
  {
   "cell_type": "code",
   "execution_count": 20,
   "metadata": {},
   "outputs": [],
   "source": [
    "# Define a function on each of the workers\n",
    "@everywhere is_in_filter_band(x) = (lambda_min::Float64 < x < lambda_max::Float64) ? one(x) : zero(x)\n",
    "\n",
    "# Run mapreduce, summing the product of the convolved spectrum and the filter's weight at each wavelength\n",
    "mapreduce(x->is_in_filter_band(x)*conv_spectrum(x), +, lambdas_dist);"
   ]
  },
  {
   "cell_type": "code",
   "execution_count": 21,
   "metadata": {
    "ExecuteTime": {
     "end_time": "2019-02-25T02:19:32.528000-05:00",
     "start_time": "2019-02-25T07:17:40.172Z"
    }
   },
   "outputs": [
    {
     "name": "stdout",
     "output_type": "stream",
     "text": [
      "# Timing calls to mapreduce.\n",
      "  4.297601 seconds (99.75 k allocations: 6.593 MiB, 0.39% gc time, 2.06% compilation time)\n",
      "  4.174463 seconds (580 allocations: 28.672 KiB)\n"
     ]
    }
   ],
   "source": [
    "println(\"# Timing calls to mapreduce.\")\n",
    "for i in 1:num_runs \n",
    "    @time mapreduce(x->is_in_filter_band(x)*conv_spectrum(x), +, lambdas_dist) \n",
    "end"
   ]
  },
  {
   "cell_type": "markdown",
   "metadata": {},
   "source": [
    "### Write output (without interfering with output from other jobs)\n",
    "In principle, you could have each process read and write from disk.  If carefully orchestrated this could improve disk performance.  However, if done casually it can easily result in worse perofrmance.  Therefore, we'll simplify things by having the delegator process handle all the disk input/output.  That way two processes won't be trying to write to the disk at the same time.\n",
    "Additionally, we'll use the SLURM_JOB_ID environment variable to make sure that different jobs don't overwrite each other. "
   ]
  },
  {
   "cell_type": "code",
   "execution_count": 22,
   "metadata": {
    "ExecuteTime": {
     "end_time": "2019-02-25T02:19:49.937000-05:00",
     "start_time": "2019-02-25T07:17:40.174Z"
    }
   },
   "outputs": [
    {
     "data": {
      "text/plain": [
       "\"ex2_out_6079270.csv\""
      ]
     },
     "execution_count": 22,
     "metadata": {},
     "output_type": "execute_result"
    }
   ],
   "source": [
    "results = collect(map(conv_spectrum,lambdas_dist)) \n",
    "\n",
    "output_filename = \"ex2_out.csv\"\n",
    "if haskey(ENV,\"SLURM_JOB_ID\")         # see if PBS_JOBID is among environment variables\n",
    "   jobid_num = ENV[\"SLURM_JOB_ID\"]\n",
    "   output_filename = \"ex2_out_\" * jobid_num * \".csv\"\n",
    "end\n",
    "CSV.write(output_filename,DataFrame(lambda=lambdas,result=results))"
   ]
  },
  {
   "cell_type": "markdown",
   "metadata": {},
   "source": [
    "## Benchmarking performance versus number of workers\n",
    "To see how the performance scales on the number of workers, we'll gradually remove worker processes and compare the performance of one of our functions to compute the mean squared error between two spectra from Lab 6, exercise 2."
   ]
  },
  {
   "cell_type": "code",
   "execution_count": 23,
   "metadata": {},
   "outputs": [],
   "source": [
    "@everywhere function calc_mse_mapreduce(lambdas::AbstractArray, spec1::AbstractSpectrum, spec2::AbstractSpectrum,  v::Number)\n",
    "    c = lab7.speed_of_light\n",
    "    z = v/c \n",
    "    spec2_shifted = doppler_shifted_spectrum(spec2,z)\n",
    "    mse = mapreduce(x->(spec1(x)-spec2_shifted(x))^2, +, lambdas)\n",
    "    mse /= length(lambdas)\n",
    "end"
   ]
  },
  {
   "cell_type": "code",
   "execution_count": 24,
   "metadata": {},
   "outputs": [
    {
     "name": "stdout",
     "output_type": "stream",
     "text": [
      "  8.875808 seconds (261.97 k allocations: 17.553 MiB, 0.19% gc time, 2.12% compilation time)\n"
     ]
    },
    {
     "data": {
      "text/plain": [
       "4.0742895578900003e-10"
      ]
     },
     "execution_count": 24,
     "metadata": {},
     "output_type": "execute_result"
    }
   ],
   "source": [
    "# Force function to compile\n",
    "@time calc_mse_mapreduce(lambdas_dist, conv_spectrum, conv_spectrum, 10.0) "
   ]
  },
  {
   "cell_type": "code",
   "execution_count": 25,
   "metadata": {},
   "outputs": [
    {
     "name": "stdout",
     "output_type": "stream",
     "text": [
      "# Timing calls to mapreduce on DArray with 4 workers.\n",
      "8.467330948 seconds.\n",
      "# Timing calls to mapreduce on DArray with 3 workers.\n",
      "11.060035635 seconds.\n",
      "# Timing calls to mapreduce on DArray with 2 workers.\n",
      "16.756515309 seconds.\n",
      "# Timing calls to mapreduce on DArray with 1 workers.\n",
      "31.939725081 seconds.\n"
     ]
    }
   ],
   "source": [
    "num_workers_all = nworkers()\n",
    "wall_time = zeros(num_workers_all)\n",
    "for nw in num_workers_all:-1:1\n",
    "    println(\"# Timing calls to mapreduce on DArray with $nw workers.\")\n",
    "    wall_time[nw] = @elapsed calc_mse_mapreduce(lambdas_dist, conv_spectrum, conv_spectrum, 10.0) \n",
    "    println(wall_time[nw], \" seconds.\")\n",
    "    if nw > 1\n",
    "        rmprocs(last(workers()))            # Remove one worker\n",
    "        global lambdas_dist = distribute(lambdas)  # Redistribute wavelengths over remaining workers\n",
    "    end\n",
    "end"
   ]
  },
  {
   "cell_type": "markdown",
   "metadata": {},
   "source": [
    "(At this point we've removed the worker processes.  If you want to run things in parallel, you'll need to restart the notebook.)"
   ]
  },
  {
   "cell_type": "code",
   "execution_count": 26,
   "metadata": {
    "scrolled": true
   },
   "outputs": [
    {
     "name": "stdout",
     "output_type": "stream",
     "text": [
      "# Timing calls to mapreduce (serial).\n",
      " 35.231886 seconds (70.01 M allocations: 5.396 GiB, 2.67% gc time, 4.96% compilation time)\n"
     ]
    },
    {
     "data": {
      "text/plain": [
       "4.0742895578900003e-10"
      ]
     },
     "execution_count": 26,
     "metadata": {},
     "output_type": "execute_result"
    }
   ],
   "source": [
    "println(\"# Timing calls to mapreduce (serial).\")\n",
    "@time calc_mse_mapreduce(lambdas, conv_spectrum, conv_spectrum, 10.0) "
   ]
  },
  {
   "cell_type": "markdown",
   "metadata": {},
   "source": [
    "Finally, we'll make a plot of the strong scaling for this task."
   ]
  },
  {
   "cell_type": "code",
   "execution_count": 27,
   "metadata": {},
   "outputs": [],
   "source": [
    "using Plots"
   ]
  },
  {
   "cell_type": "code",
   "execution_count": 28,
   "metadata": {},
   "outputs": [
    {
     "data": {
      "image/png": "[encoded data removed]",
      "image/svg+xml": [
       "<?xml version=\"1.0\" encoding=\"utf-8\"?>\n",
       "<svg xmlns=\"http://www.w3.org/2000/svg\" xmlns:xlink=\"http://www.w3.org/1999/xlink\" width=\"600\" height=\"400\" viewBox=\"0 0 2400 1600\">\n",
       "<defs>\n",
       "  <clipPath id=\"clip320\">\n",
       "    <rect x=\"0\" y=\"0\" width=\"2400\" height=\"1600\"/>\n",
       "  </clipPath>\n",
       "</defs>\n",
       "<path clip-path=\"url(#clip320)\" d=\"M0 1600 L2400 1600 L2400 0 L0 0  Z\" fill=\"#ffffff\" fill-rule=\"evenodd\" fill-opacity=\"1\"/>\n",
       "<defs>\n",
       "  <clipPath id=\"clip321\">\n",
       "    <rect x=\"480\" y=\"0\" width=\"1681\" height=\"1600\"/>\n",
       "  </clipPath>\n",
       "</defs>\n",
       "<path clip-path=\"url(#clip320)\" d=\"M257.09 1423.18 L2352.76 1423.18 L2352.76 47.2441 L257.09 47.2441  Z\" fill=\"#ffffff\" fill-rule=\"evenodd\" fill-opacity=\"1\"/>\n",
       "<defs>\n",
       "  <clipPath id=\"clip322\">\n",
       "    <rect x=\"257\" y=\"47\" width=\"2097\" height=\"1377\"/>\n",
       "  </clipPath>\n",
       "</defs>\n",
       "<polyline clip-path=\"url(#clip322)\" style=\"stroke:#000000; stroke-linecap:round; stroke-linejoin:round; stroke-width:2; stroke-opacity:0.1; fill:none\" points=\"316.401,1423.18 316.401,47.2441 \"/>\n",
       "<polyline clip-path=\"url(#clip322)\" style=\"stroke:#000000; stroke-linecap:round; stroke-linejoin:round; stroke-width:2; stroke-opacity:0.1; fill:none\" points=\"1304.92,1423.18 1304.92,47.2441 \"/>\n",
       "<polyline clip-path=\"url(#clip322)\" style=\"stroke:#000000; stroke-linecap:round; stroke-linejoin:round; stroke-width:2; stroke-opacity:0.1; fill:none\" points=\"1883.17,1423.18 1883.17,47.2441 \"/>\n",
       "<polyline clip-path=\"url(#clip322)\" style=\"stroke:#000000; stroke-linecap:round; stroke-linejoin:round; stroke-width:2; stroke-opacity:0.1; fill:none\" points=\"2293.44,1423.18 2293.44,47.2441 \"/>\n",
       "<polyline clip-path=\"url(#clip320)\" style=\"stroke:#000000; stroke-linecap:round; stroke-linejoin:round; stroke-width:4; stroke-opacity:1; fill:none\" points=\"257.09,1423.18 2352.76,1423.18 \"/>\n",
       "<polyline clip-path=\"url(#clip320)\" style=\"stroke:#000000; stroke-linecap:round; stroke-linejoin:round; stroke-width:4; stroke-opacity:1; fill:none\" points=\"316.401,1423.18 316.401,1404.28 \"/>\n",
       "<polyline clip-path=\"url(#clip320)\" style=\"stroke:#000000; stroke-linecap:round; stroke-linejoin:round; stroke-width:4; stroke-opacity:1; fill:none\" points=\"1304.92,1423.18 1304.92,1404.28 \"/>\n",
       "<polyline clip-path=\"url(#clip320)\" style=\"stroke:#000000; stroke-linecap:round; stroke-linejoin:round; stroke-width:4; stroke-opacity:1; fill:none\" points=\"1883.17,1423.18 1883.17,1404.28 \"/>\n",
       "<polyline clip-path=\"url(#clip320)\" style=\"stroke:#000000; stroke-linecap:round; stroke-linejoin:round; stroke-width:4; stroke-opacity:1; fill:none\" points=\"2293.44,1423.18 2293.44,1404.28 \"/>\n",
       "<path clip-path=\"url(#clip320)\" d=\"M306.783 1481.64 L314.422 1481.64 L314.422 1455.28 L306.112 1456.95 L306.112 1452.69 L314.376 1451.02 L319.051 1451.02 L319.051 1481.64 L326.69 1481.64 L326.69 1485.58 L306.783 1485.58 L306.783 1481.64 Z\" fill=\"#000000\" fill-rule=\"nonzero\" fill-opacity=\"1\" /><path clip-path=\"url(#clip320)\" d=\"M1299.58 1481.64 L1315.89 1481.64 L1315.89 1485.58 L1293.95 1485.58 L1293.95 1481.64 Q1296.61 1478.89 1301.2 1474.26 Q1305.8 1469.61 1306.98 1468.27 Q1309.23 1465.74 1310.11 1464.01 Q1311.01 1462.25 1311.01 1460.56 Q1311.01 1457.8 1309.07 1456.07 Q1307.15 1454.33 1304.04 1454.33 Q1301.84 1454.33 1299.39 1455.09 Q1296.96 1455.86 1294.18 1457.41 L1294.18 1452.69 Q1297.01 1451.55 1299.46 1450.97 Q1301.91 1450.39 1303.95 1450.39 Q1309.32 1450.39 1312.52 1453.08 Q1315.71 1455.77 1315.71 1460.26 Q1315.71 1462.39 1314.9 1464.31 Q1314.11 1466.2 1312.01 1468.8 Q1311.43 1469.47 1308.33 1472.69 Q1305.22 1475.88 1299.58 1481.64 Z\" fill=\"#000000\" fill-rule=\"nonzero\" fill-opacity=\"1\" /><path clip-path=\"url(#clip320)\" d=\"M1887.42 1466.95 Q1890.78 1467.66 1892.65 1469.93 Q1894.55 1472.2 1894.55 1475.53 Q1894.55 1480.65 1891.03 1483.45 Q1887.51 1486.25 1881.03 1486.25 Q1878.85 1486.25 1876.54 1485.81 Q1874.25 1485.39 1871.79 1484.54 L1871.79 1480.02 Q1873.74 1481.16 1876.05 1481.74 Q1878.37 1482.32 1880.89 1482.32 Q1885.29 1482.32 1887.58 1480.58 Q1889.9 1478.84 1889.9 1475.53 Q1889.9 1472.48 1887.74 1470.77 Q1885.61 1469.03 1881.79 1469.03 L1877.77 1469.03 L1877.77 1465.19 L1881.98 1465.19 Q1885.43 1465.19 1887.26 1463.82 Q1889.09 1462.43 1889.09 1459.84 Q1889.09 1457.18 1887.19 1455.77 Q1885.31 1454.33 1881.79 1454.33 Q1879.87 1454.33 1877.67 1454.75 Q1875.47 1455.16 1872.84 1456.04 L1872.84 1451.88 Q1875.5 1451.14 1877.81 1450.77 Q1880.15 1450.39 1882.21 1450.39 Q1887.53 1450.39 1890.64 1452.83 Q1893.74 1455.23 1893.74 1459.35 Q1893.74 1462.22 1892.09 1464.21 Q1890.45 1466.18 1887.42 1466.95 Z\" fill=\"#000000\" fill-rule=\"nonzero\" fill-opacity=\"1\" /><path clip-path=\"url(#clip320)\" d=\"M2296.45 1455.09 L2284.65 1473.54 L2296.45 1473.54 L2296.45 1455.09 M2295.23 1451.02 L2301.11 1451.02 L2301.11 1473.54 L2306.04 1473.54 L2306.04 1477.43 L2301.11 1477.43 L2301.11 1485.58 L2296.45 1485.58 L2296.45 1477.43 L2280.85 1477.43 L2280.85 1472.92 L2295.23 1451.02 Z\" fill=\"#000000\" fill-rule=\"nonzero\" fill-opacity=\"1\" /><path clip-path=\"url(#clip320)\" d=\"M998.51 1520.52 L1007.17 1520.52 L1028.24 1560.28 L1028.24 1520.52 L1034.48 1520.52 L1034.48 1568.04 L1025.82 1568.04 L1004.75 1528.29 L1004.75 1568.04 L998.51 1568.04 L998.51 1520.52 Z\" fill=\"#000000\" fill-rule=\"nonzero\" fill-opacity=\"1\" /><path clip-path=\"url(#clip320)\" d=\"M1046.41 1553.98 L1046.41 1532.4 L1052.27 1532.4 L1052.27 1553.75 Q1052.27 1558.81 1054.24 1561.36 Q1056.21 1563.87 1060.16 1563.87 Q1064.9 1563.87 1067.64 1560.85 Q1070.41 1557.83 1070.41 1552.61 L1070.41 1532.4 L1076.27 1532.4 L1076.27 1568.04 L1070.41 1568.04 L1070.41 1562.57 Q1068.28 1565.82 1065.44 1567.41 Q1062.64 1568.97 1058.92 1568.97 Q1052.78 1568.97 1049.59 1565.15 Q1046.41 1561.33 1046.41 1553.98 M1061.15 1531.54 L1061.15 1531.54 Z\" fill=\"#000000\" fill-rule=\"nonzero\" fill-opacity=\"1\" /><path clip-path=\"url(#clip320)\" d=\"M1116.08 1539.24 Q1118.28 1535.29 1121.34 1533.41 Q1124.39 1531.54 1128.53 1531.54 Q1134.1 1531.54 1137.12 1535.45 Q1140.15 1539.33 1140.15 1546.53 L1140.15 1568.04 L1134.26 1568.04 L1134.26 1546.72 Q1134.26 1541.59 1132.44 1539.11 Q1130.63 1536.63 1126.91 1536.63 Q1122.35 1536.63 1119.71 1539.65 Q1117.07 1542.68 1117.07 1547.9 L1117.07 1568.04 L1111.18 1568.04 L1111.18 1546.72 Q1111.18 1541.56 1109.37 1539.11 Q1107.55 1536.63 1103.77 1536.63 Q1099.28 1536.63 1096.64 1539.68 Q1094 1542.71 1094 1547.9 L1094 1568.04 L1088.11 1568.04 L1088.11 1532.4 L1094 1532.4 L1094 1537.93 Q1096 1534.66 1098.8 1533.1 Q1101.6 1531.54 1105.45 1531.54 Q1109.34 1531.54 1112.04 1533.51 Q1114.78 1535.48 1116.08 1539.24 Z\" fill=\"#000000\" fill-rule=\"nonzero\" fill-opacity=\"1\" /><path clip-path=\"url(#clip320)\" d=\"M1177.42 1550.25 Q1177.42 1543.79 1174.74 1540.13 Q1172.1 1536.44 1167.46 1536.44 Q1162.81 1536.44 1160.13 1540.13 Q1157.49 1543.79 1157.49 1550.25 Q1157.49 1556.71 1160.13 1560.4 Q1162.81 1564.07 1167.46 1564.07 Q1172.1 1564.07 1174.74 1560.4 Q1177.42 1556.71 1177.42 1550.25 M1157.49 1537.81 Q1159.34 1534.62 1162.14 1533.1 Q1164.97 1531.54 1168.89 1531.54 Q1175.38 1531.54 1179.42 1536.69 Q1183.5 1541.85 1183.5 1550.25 Q1183.5 1558.65 1179.42 1563.81 Q1175.38 1568.97 1168.89 1568.97 Q1164.97 1568.97 1162.14 1567.44 Q1159.34 1565.88 1157.49 1562.7 L1157.49 1568.04 L1151.6 1568.04 L1151.6 1518.52 L1157.49 1518.52 L1157.49 1537.81 Z\" fill=\"#000000\" fill-rule=\"nonzero\" fill-opacity=\"1\" /><path clip-path=\"url(#clip320)\" d=\"M1223.7 1548.76 L1223.7 1551.62 L1196.77 1551.62 Q1197.15 1557.67 1200.4 1560.85 Q1203.68 1564 1209.5 1564 Q1212.87 1564 1216.03 1563.17 Q1219.21 1562.35 1222.33 1560.69 L1222.33 1566.23 Q1219.18 1567.57 1215.87 1568.27 Q1212.56 1568.97 1209.15 1568.97 Q1200.62 1568.97 1195.62 1564 Q1190.66 1559.04 1190.66 1550.57 Q1190.66 1541.82 1195.37 1536.69 Q1200.11 1531.54 1208.13 1531.54 Q1215.33 1531.54 1219.5 1536.18 Q1223.7 1540.8 1223.7 1548.76 M1217.84 1547.04 Q1217.78 1542.23 1215.13 1539.37 Q1212.52 1536.5 1208.2 1536.5 Q1203.29 1536.5 1200.33 1539.27 Q1197.41 1542.04 1196.96 1547.07 L1217.84 1547.04 Z\" fill=\"#000000\" fill-rule=\"nonzero\" fill-opacity=\"1\" /><path clip-path=\"url(#clip320)\" d=\"M1253.97 1537.87 Q1252.98 1537.3 1251.8 1537.04 Q1250.66 1536.76 1249.25 1536.76 Q1244.29 1536.76 1241.62 1540 Q1238.97 1543.22 1238.97 1549.27 L1238.97 1568.04 L1233.09 1568.04 L1233.09 1532.4 L1238.97 1532.4 L1238.97 1537.93 Q1240.82 1534.69 1243.78 1533.13 Q1246.74 1531.54 1250.97 1531.54 Q1251.58 1531.54 1252.31 1531.63 Q1253.04 1531.7 1253.93 1531.85 L1253.97 1537.87 Z\" fill=\"#000000\" fill-rule=\"nonzero\" fill-opacity=\"1\" /><path clip-path=\"url(#clip320)\" d=\"M1294.64 1536.5 Q1289.93 1536.5 1287.19 1540.19 Q1284.46 1543.85 1284.46 1550.25 Q1284.46 1556.65 1287.16 1560.34 Q1289.9 1564 1294.64 1564 Q1299.32 1564 1302.06 1560.31 Q1304.8 1556.62 1304.8 1550.25 Q1304.8 1543.92 1302.06 1540.23 Q1299.32 1536.5 1294.64 1536.5 M1294.64 1531.54 Q1302.28 1531.54 1306.64 1536.5 Q1311 1541.47 1311 1550.25 Q1311 1559 1306.64 1564 Q1302.28 1568.97 1294.64 1568.97 Q1286.97 1568.97 1282.61 1564 Q1278.28 1559 1278.28 1550.25 Q1278.28 1541.47 1282.61 1536.5 Q1286.97 1531.54 1294.64 1531.54 Z\" fill=\"#000000\" fill-rule=\"nonzero\" fill-opacity=\"1\" /><path clip-path=\"url(#clip320)\" d=\"M1338.76 1518.52 L1338.76 1523.39 L1333.15 1523.39 Q1330 1523.39 1328.76 1524.66 Q1327.55 1525.93 1327.55 1529.24 L1327.55 1532.4 L1337.2 1532.4 L1337.2 1536.95 L1327.55 1536.95 L1327.55 1568.04 L1321.66 1568.04 L1321.66 1536.95 L1316.06 1536.95 L1316.06 1532.4 L1321.66 1532.4 L1321.66 1529.91 Q1321.66 1523.96 1324.43 1521.26 Q1327.2 1518.52 1333.22 1518.52 L1338.76 1518.52 Z\" fill=\"#000000\" fill-rule=\"nonzero\" fill-opacity=\"1\" /><path clip-path=\"url(#clip320)\" d=\"M1360.97 1532.4 L1366.83 1532.4 L1374.15 1560.21 L1381.44 1532.4 L1388.35 1532.4 L1395.67 1560.21 L1402.95 1532.4 L1408.81 1532.4 L1399.49 1568.04 L1392.58 1568.04 L1384.91 1538.83 L1377.21 1568.04 L1370.3 1568.04 L1360.97 1532.4 Z\" fill=\"#000000\" fill-rule=\"nonzero\" fill-opacity=\"1\" /><path clip-path=\"url(#clip320)\" d=\"M1431.5 1536.5 Q1426.79 1536.5 1424.06 1540.19 Q1421.32 1543.85 1421.32 1550.25 Q1421.32 1556.65 1424.03 1560.34 Q1426.76 1564 1431.5 1564 Q1436.18 1564 1438.92 1560.31 Q1441.66 1556.62 1441.66 1550.25 Q1441.66 1543.92 1438.92 1540.23 Q1436.18 1536.5 1431.5 1536.5 M1431.5 1531.54 Q1439.14 1531.54 1443.5 1536.5 Q1447.86 1541.47 1447.86 1550.25 Q1447.86 1559 1443.5 1564 Q1439.14 1568.97 1431.5 1568.97 Q1423.83 1568.97 1419.47 1564 Q1415.15 1559 1415.15 1550.25 Q1415.15 1541.47 1419.47 1536.5 Q1423.83 1531.54 1431.5 1531.54 Z\" fill=\"#000000\" fill-rule=\"nonzero\" fill-opacity=\"1\" /><path clip-path=\"url(#clip320)\" d=\"M1478.23 1537.87 Q1477.24 1537.3 1476.06 1537.04 Q1474.92 1536.76 1473.52 1536.76 Q1468.55 1536.76 1465.88 1540 Q1463.24 1543.22 1463.24 1549.27 L1463.24 1568.04 L1457.35 1568.04 L1457.35 1532.4 L1463.24 1532.4 L1463.24 1537.93 Q1465.08 1534.69 1468.04 1533.13 Q1471 1531.54 1475.24 1531.54 Q1475.84 1531.54 1476.57 1531.63 Q1477.31 1531.7 1478.2 1531.85 L1478.23 1537.87 Z\" fill=\"#000000\" fill-rule=\"nonzero\" fill-opacity=\"1\" /><path clip-path=\"url(#clip320)\" d=\"M1484.15 1518.52 L1490.04 1518.52 L1490.04 1547.77 L1507.51 1532.4 L1514.99 1532.4 L1496.08 1549.07 L1515.79 1568.04 L1508.15 1568.04 L1490.04 1550.63 L1490.04 1568.04 L1484.15 1568.04 L1484.15 1518.52 Z\" fill=\"#000000\" fill-rule=\"nonzero\" fill-opacity=\"1\" /><path clip-path=\"url(#clip320)\" d=\"M1550.29 1548.76 L1550.29 1551.62 L1523.36 1551.62 Q1523.74 1557.67 1526.99 1560.85 Q1530.27 1564 1536.09 1564 Q1539.47 1564 1542.62 1563.17 Q1545.8 1562.35 1548.92 1560.69 L1548.92 1566.23 Q1545.77 1567.57 1542.46 1568.27 Q1539.15 1568.97 1535.74 1568.97 Q1527.21 1568.97 1522.22 1564 Q1517.25 1559.04 1517.25 1550.57 Q1517.25 1541.82 1521.96 1536.69 Q1526.7 1531.54 1534.72 1531.54 Q1541.92 1531.54 1546.09 1536.18 Q1550.29 1540.8 1550.29 1548.76 M1544.43 1547.04 Q1544.37 1542.23 1541.73 1539.37 Q1539.12 1536.5 1534.79 1536.5 Q1529.89 1536.5 1526.93 1539.27 Q1524 1542.04 1523.55 1547.07 L1544.43 1547.04 Z\" fill=\"#000000\" fill-rule=\"nonzero\" fill-opacity=\"1\" /><path clip-path=\"url(#clip320)\" d=\"M1580.56 1537.87 Q1579.57 1537.3 1578.39 1537.04 Q1577.25 1536.76 1575.85 1536.76 Q1570.88 1536.76 1568.21 1540 Q1565.57 1543.22 1565.57 1549.27 L1565.57 1568.04 L1559.68 1568.04 L1559.68 1532.4 L1565.57 1532.4 L1565.57 1537.93 Q1567.41 1534.69 1570.37 1533.13 Q1573.33 1531.54 1577.57 1531.54 Q1578.17 1531.54 1578.9 1531.63 Q1579.63 1531.7 1580.53 1531.85 L1580.56 1537.87 Z\" fill=\"#000000\" fill-rule=\"nonzero\" fill-opacity=\"1\" /><path clip-path=\"url(#clip320)\" d=\"M1609.43 1533.45 L1609.43 1538.98 Q1606.94 1537.71 1604.27 1537.07 Q1601.6 1536.44 1598.73 1536.44 Q1594.37 1536.44 1592.18 1537.77 Q1590.01 1539.11 1590.01 1541.79 Q1590.01 1543.82 1591.57 1545 Q1593.13 1546.15 1597.84 1547.2 L1599.85 1547.64 Q1606.08 1548.98 1608.69 1551.43 Q1611.34 1553.85 1611.34 1558.21 Q1611.34 1563.17 1607.39 1566.07 Q1603.47 1568.97 1596.6 1568.97 Q1593.73 1568.97 1590.62 1568.39 Q1587.53 1567.85 1584.09 1566.74 L1584.09 1560.69 Q1587.34 1562.38 1590.49 1563.24 Q1593.64 1564.07 1596.73 1564.07 Q1600.86 1564.07 1603.09 1562.66 Q1605.32 1561.23 1605.32 1558.65 Q1605.32 1556.27 1603.7 1554.99 Q1602.11 1553.72 1596.66 1552.54 L1594.63 1552.07 Q1589.18 1550.92 1586.76 1548.56 Q1584.35 1546.18 1584.35 1542.04 Q1584.35 1537.01 1587.91 1534.27 Q1591.48 1531.54 1598.03 1531.54 Q1601.28 1531.54 1604.14 1532.01 Q1607.01 1532.49 1609.43 1533.45 Z\" fill=\"#000000\" fill-rule=\"nonzero\" fill-opacity=\"1\" /><polyline clip-path=\"url(#clip322)\" style=\"stroke:#000000; stroke-linecap:round; stroke-linejoin:round; stroke-width:2; stroke-opacity:0.1; fill:none\" points=\"257.09,1173.53 2352.76,1173.53 \"/>\n",
       "<polyline clip-path=\"url(#clip322)\" style=\"stroke:#000000; stroke-linecap:round; stroke-linejoin:round; stroke-width:2; stroke-opacity:0.1; fill:none\" points=\"257.09,742.329 2352.76,742.329 \"/>\n",
       "<polyline clip-path=\"url(#clip322)\" style=\"stroke:#000000; stroke-linecap:round; stroke-linejoin:round; stroke-width:2; stroke-opacity:0.1; fill:none\" points=\"257.09,311.126 2352.76,311.126 \"/>\n",
       "<polyline clip-path=\"url(#clip320)\" style=\"stroke:#000000; stroke-linecap:round; stroke-linejoin:round; stroke-width:4; stroke-opacity:1; fill:none\" points=\"257.09,1423.18 257.09,47.2441 \"/>\n",
       "<polyline clip-path=\"url(#clip320)\" style=\"stroke:#000000; stroke-linecap:round; stroke-linejoin:round; stroke-width:4; stroke-opacity:1; fill:none\" points=\"257.09,1173.53 275.987,1173.53 \"/>\n",
       "<polyline clip-path=\"url(#clip320)\" style=\"stroke:#000000; stroke-linecap:round; stroke-linejoin:round; stroke-width:4; stroke-opacity:1; fill:none\" points=\"257.09,742.329 275.987,742.329 \"/>\n",
       "<polyline clip-path=\"url(#clip320)\" style=\"stroke:#000000; stroke-linecap:round; stroke-linejoin:round; stroke-width:4; stroke-opacity:1; fill:none\" points=\"257.09,311.126 275.987,311.126 \"/>\n",
       "<path clip-path=\"url(#clip320)\" d=\"M115.326 1193.33 L122.965 1193.33 L122.965 1166.96 L114.655 1168.63 L114.655 1164.37 L122.919 1162.7 L127.595 1162.7 L127.595 1193.33 L135.234 1193.33 L135.234 1197.26 L115.326 1197.26 L115.326 1193.33 Z\" fill=\"#000000\" fill-rule=\"nonzero\" fill-opacity=\"1\" /><path clip-path=\"url(#clip320)\" d=\"M154.678 1165.78 Q151.067 1165.78 149.238 1169.34 Q147.433 1172.89 147.433 1180.02 Q147.433 1187.12 149.238 1190.69 Q151.067 1194.23 154.678 1194.23 Q158.312 1194.23 160.118 1190.69 Q161.947 1187.12 161.947 1180.02 Q161.947 1172.89 160.118 1169.34 Q158.312 1165.78 154.678 1165.78 M154.678 1162.08 Q160.488 1162.08 163.544 1166.68 Q166.622 1171.27 166.622 1180.02 Q166.622 1188.74 163.544 1193.35 Q160.488 1197.93 154.678 1197.93 Q148.868 1197.93 145.789 1193.35 Q142.734 1188.74 142.734 1180.02 Q142.734 1171.27 145.789 1166.68 Q148.868 1162.08 154.678 1162.08 Z\" fill=\"#000000\" fill-rule=\"nonzero\" fill-opacity=\"1\" /><path clip-path=\"url(#clip320)\" d=\"M167.168 1166.65 L173.374 1166.65 L173.374 1145.23 L166.622 1146.59 L166.622 1143.12 L173.337 1141.77 L177.136 1141.77 L177.136 1166.65 L183.343 1166.65 L183.343 1169.85 L167.168 1169.85 L167.168 1166.65 Z\" fill=\"#000000\" fill-rule=\"nonzero\" fill-opacity=\"1\" /><path clip-path=\"url(#clip320)\" d=\"M191.016 1165.07 L194.985 1165.07 L194.985 1169.85 L191.016 1169.85 L191.016 1165.07 Z\" fill=\"#000000\" fill-rule=\"nonzero\" fill-opacity=\"1\" /><path clip-path=\"url(#clip320)\" d=\"M211.385 1144.27 Q208.451 1144.27 206.965 1147.17 Q205.498 1150.05 205.498 1155.84 Q205.498 1161.61 206.965 1164.51 Q208.451 1167.39 211.385 1167.39 Q214.338 1167.39 215.805 1164.51 Q217.291 1161.61 217.291 1155.84 Q217.291 1150.05 215.805 1147.17 Q214.338 1144.27 211.385 1144.27 M211.385 1141.26 Q216.106 1141.26 218.588 1145.01 Q221.09 1148.73 221.09 1155.84 Q221.09 1162.93 218.588 1166.67 Q216.106 1170.4 211.385 1170.4 Q206.664 1170.4 204.163 1166.67 Q201.68 1162.93 201.68 1155.84 Q201.68 1148.73 204.163 1145.01 Q206.664 1141.26 211.385 1141.26 Z\" fill=\"#000000\" fill-rule=\"nonzero\" fill-opacity=\"1\" /><path clip-path=\"url(#clip320)\" d=\"M116.624 762.122 L124.263 762.122 L124.263 735.756 L115.953 737.423 L115.953 733.164 L124.217 731.497 L128.893 731.497 L128.893 762.122 L136.531 762.122 L136.531 766.057 L116.624 766.057 L116.624 762.122 Z\" fill=\"#000000\" fill-rule=\"nonzero\" fill-opacity=\"1\" /><path clip-path=\"url(#clip320)\" d=\"M155.976 734.576 Q152.365 734.576 150.536 738.14 Q148.73 741.682 148.73 748.812 Q148.73 755.918 150.536 759.483 Q152.365 763.025 155.976 763.025 Q159.61 763.025 161.416 759.483 Q163.244 755.918 163.244 748.812 Q163.244 741.682 161.416 738.14 Q159.61 734.576 155.976 734.576 M155.976 730.872 Q161.786 730.872 164.841 735.478 Q167.92 740.062 167.92 748.812 Q167.92 757.538 164.841 762.145 Q161.786 766.728 155.976 766.728 Q150.166 766.728 147.087 762.145 Q144.031 757.538 144.031 748.812 Q144.031 740.062 147.087 735.478 Q150.166 730.872 155.976 730.872 Z\" fill=\"#000000\" fill-rule=\"nonzero\" fill-opacity=\"1\" /><path clip-path=\"url(#clip320)\" d=\"M168.466 735.449 L174.672 735.449 L174.672 714.027 L167.92 715.381 L167.92 711.921 L174.635 710.567 L178.434 710.567 L178.434 735.449 L184.64 735.449 L184.64 738.647 L168.466 738.647 L168.466 735.449 Z\" fill=\"#000000\" fill-rule=\"nonzero\" fill-opacity=\"1\" /><path clip-path=\"url(#clip320)\" d=\"M192.314 733.869 L196.282 733.869 L196.282 738.647 L192.314 738.647 L192.314 733.869 Z\" fill=\"#000000\" fill-rule=\"nonzero\" fill-opacity=\"1\" /><path clip-path=\"url(#clip320)\" d=\"M207.83 735.449 L221.09 735.449 L221.09 738.647 L203.26 738.647 L203.26 735.449 Q205.423 733.211 209.147 729.45 Q212.89 725.669 213.849 724.578 Q215.673 722.528 216.388 721.118 Q217.121 719.688 217.121 718.315 Q217.121 716.077 215.541 714.667 Q213.98 713.256 211.46 713.256 Q209.673 713.256 207.68 713.877 Q205.705 714.497 203.448 715.758 L203.448 711.921 Q205.743 710.999 207.736 710.529 Q209.73 710.059 211.385 710.059 Q215.748 710.059 218.344 712.24 Q220.939 714.422 220.939 718.071 Q220.939 719.801 220.281 721.362 Q219.642 722.904 217.93 725.011 Q217.46 725.556 214.94 728.171 Q212.419 730.766 207.83 735.449 Z\" fill=\"#000000\" fill-rule=\"nonzero\" fill-opacity=\"1\" /><path clip-path=\"url(#clip320)\" d=\"M114.931 330.918 L122.57 330.918 L122.57 304.552 L114.26 306.219 L114.26 301.96 L122.524 300.293 L127.2 300.293 L127.2 330.918 L134.839 330.918 L134.839 334.853 L114.931 334.853 L114.931 330.918 Z\" fill=\"#000000\" fill-rule=\"nonzero\" fill-opacity=\"1\" /><path clip-path=\"url(#clip320)\" d=\"M154.283 303.372 Q150.672 303.372 148.843 306.937 Q147.038 310.478 147.038 317.608 Q147.038 324.714 148.843 328.279 Q150.672 331.821 154.283 331.821 Q157.917 331.821 159.723 328.279 Q161.552 324.714 161.552 317.608 Q161.552 310.478 159.723 306.937 Q157.917 303.372 154.283 303.372 M154.283 299.668 Q160.093 299.668 163.149 304.275 Q166.227 308.858 166.227 317.608 Q166.227 326.335 163.149 330.941 Q160.093 335.525 154.283 335.525 Q148.473 335.525 145.394 330.941 Q142.339 326.335 142.339 317.608 Q142.339 308.858 145.394 304.275 Q148.473 299.668 154.283 299.668 Z\" fill=\"#000000\" fill-rule=\"nonzero\" fill-opacity=\"1\" /><path clip-path=\"url(#clip320)\" d=\"M166.773 304.246 L172.979 304.246 L172.979 282.823 L166.227 284.178 L166.227 280.717 L172.942 279.363 L176.741 279.363 L176.741 304.246 L182.948 304.246 L182.948 307.443 L166.773 307.443 L166.773 304.246 Z\" fill=\"#000000\" fill-rule=\"nonzero\" fill-opacity=\"1\" /><path clip-path=\"url(#clip320)\" d=\"M190.621 302.666 L194.59 302.666 L194.59 307.443 L190.621 307.443 L190.621 302.666 Z\" fill=\"#000000\" fill-rule=\"nonzero\" fill-opacity=\"1\" /><path clip-path=\"url(#clip320)\" d=\"M213.303 282.673 L203.711 297.663 L213.303 297.663 L213.303 282.673 M212.307 279.363 L217.084 279.363 L217.084 297.663 L221.09 297.663 L221.09 300.822 L217.084 300.822 L217.084 307.443 L213.303 307.443 L213.303 300.822 L200.627 300.822 L200.627 297.155 L212.307 279.363 Z\" fill=\"#000000\" fill-rule=\"nonzero\" fill-opacity=\"1\" /><path clip-path=\"url(#clip320)\" d=\"M16.4842 936.321 L16.4842 929.828 L56.6518 919.833 L16.4842 909.871 L16.4842 902.646 L56.6518 892.652 L16.4842 882.689 L16.4842 876.165 L64.0042 888.1 L64.0042 896.185 L22.7544 906.211 L64.0042 916.332 L64.0042 924.417 L16.4842 936.321 Z\" fill=\"#000000\" fill-rule=\"nonzero\" fill-opacity=\"1\" /><path clip-path=\"url(#clip320)\" d=\"M46.0847 855.858 Q46.0847 862.956 47.7079 865.693 Q49.3312 868.43 53.2461 868.43 Q56.3653 868.43 58.2114 866.393 Q60.0256 864.324 60.0256 860.791 Q60.0256 855.922 56.5881 852.993 Q53.1188 850.033 47.3897 850.033 L46.0847 850.033 L46.0847 855.858 M43.6657 844.177 L64.0042 844.177 L64.0042 850.033 L58.5933 850.033 Q61.8398 852.039 63.3994 855.03 Q64.9272 858.022 64.9272 862.351 Q64.9272 867.826 61.8716 871.072 Q58.7843 874.287 53.6281 874.287 Q47.6125 874.287 44.5569 870.276 Q41.5014 866.234 41.5014 858.245 L41.5014 850.033 L40.9285 850.033 Q36.8862 850.033 34.6901 852.707 Q32.4621 855.349 32.4621 860.155 Q32.4621 863.21 33.1941 866.107 Q33.9262 869.003 35.3903 871.677 L29.9795 871.677 Q28.7381 868.462 28.1334 865.438 Q27.4968 862.415 27.4968 859.55 Q27.4968 851.816 31.5072 847.996 Q35.5176 844.177 43.6657 844.177 Z\" fill=\"#000000\" fill-rule=\"nonzero\" fill-opacity=\"1\" /><path clip-path=\"url(#clip320)\" d=\"M14.479 832.114 L14.479 826.257 L64.0042 826.257 L64.0042 832.114 L14.479 832.114 Z\" fill=\"#000000\" fill-rule=\"nonzero\" fill-opacity=\"1\" /><path clip-path=\"url(#clip320)\" d=\"M14.479 814.004 L14.479 808.147 L64.0042 808.147 L64.0042 814.004 L14.479 814.004 Z\" fill=\"#000000\" fill-rule=\"nonzero\" fill-opacity=\"1\" /><path clip-path=\"url(#clip320)\" d=\"M18.2347 769.38 L28.3562 769.38 L28.3562 757.317 L32.9077 757.317 L32.9077 769.38 L52.2594 769.38 Q56.6199 769.38 57.8613 768.202 Q59.1026 766.993 59.1026 763.332 L59.1026 757.317 L64.0042 757.317 L64.0042 763.332 Q64.0042 770.112 61.4897 772.69 Q58.9434 775.268 52.2594 775.268 L32.9077 775.268 L32.9077 779.565 L28.3562 779.565 L28.3562 775.268 L18.2347 775.268 L18.2347 769.38 Z\" fill=\"#000000\" fill-rule=\"nonzero\" fill-opacity=\"1\" /><path clip-path=\"url(#clip320)\" d=\"M28.3562 749.614 L28.3562 743.758 L64.0042 743.758 L64.0042 749.614 L28.3562 749.614 M14.479 749.614 L14.479 743.758 L21.895 743.758 L21.895 749.614 L14.479 749.614 Z\" fill=\"#000000\" fill-rule=\"nonzero\" fill-opacity=\"1\" /><path clip-path=\"url(#clip320)\" d=\"M35.1993 703.749 Q31.2526 701.553 29.3747 698.498 Q27.4968 695.442 27.4968 691.305 Q27.4968 685.735 31.4117 682.711 Q35.2948 679.687 42.4881 679.687 L64.0042 679.687 L64.0042 685.575 L42.679 685.575 Q37.5546 685.575 35.072 687.39 Q32.5894 689.204 32.5894 692.928 Q32.5894 697.479 35.6131 700.121 Q38.6368 702.763 43.8567 702.763 L64.0042 702.763 L64.0042 708.651 L42.679 708.651 Q37.5228 708.651 35.072 710.465 Q32.5894 712.28 32.5894 716.067 Q32.5894 720.555 35.6449 723.197 Q38.6686 725.838 43.8567 725.838 L64.0042 725.838 L64.0042 731.727 L28.3562 731.727 L28.3562 725.838 L33.8944 725.838 Q30.616 723.833 29.0564 721.032 Q27.4968 718.231 27.4968 714.38 Q27.4968 710.497 29.4702 707.792 Q31.4436 705.054 35.1993 703.749 Z\" fill=\"#000000\" fill-rule=\"nonzero\" fill-opacity=\"1\" /><path clip-path=\"url(#clip320)\" d=\"M44.7161 637.514 L47.5806 637.514 L47.5806 664.441 Q53.6281 664.059 56.8109 660.813 Q59.9619 657.534 59.9619 651.71 Q59.9619 648.336 59.1344 645.185 Q58.3069 642.002 56.6518 638.883 L62.1899 638.883 Q63.5267 642.034 64.227 645.344 Q64.9272 648.654 64.9272 652.06 Q64.9272 660.59 59.9619 665.587 Q54.9967 670.552 46.5303 670.552 Q37.7774 670.552 32.6531 665.842 Q27.4968 661.099 27.4968 653.078 Q27.4968 645.885 32.1438 641.716 Q36.7589 637.514 44.7161 637.514 M42.9973 643.371 Q38.1912 643.434 35.3266 646.076 Q32.4621 648.686 32.4621 653.015 Q32.4621 657.916 35.2312 660.876 Q38.0002 663.805 43.0292 664.25 L42.9973 643.371 Z\" fill=\"#000000\" fill-rule=\"nonzero\" fill-opacity=\"1\" /><path clip-path=\"url(#clip320)\" d=\"M14.5426 593.113 Q21.8632 597.379 29.0246 599.447 Q36.186 601.516 43.5384 601.516 Q50.8908 601.516 58.1159 599.447 Q65.3091 597.347 72.5979 593.113 L72.5979 598.206 Q65.1182 602.98 57.8931 605.367 Q50.668 607.723 43.5384 607.723 Q36.4406 607.723 29.2474 605.367 Q22.0542 603.012 14.5426 598.206 L14.5426 593.113 Z\" fill=\"#000000\" fill-rule=\"nonzero\" fill-opacity=\"1\" /><path clip-path=\"url(#clip320)\" d=\"M29.4065 559.025 L34.9447 559.025 Q33.6716 561.508 33.035 564.181 Q32.3984 566.855 32.3984 569.72 Q32.3984 574.08 33.7352 576.276 Q35.072 578.441 37.7456 578.441 Q39.7826 578.441 40.9603 576.881 Q42.1061 575.321 43.1565 570.611 L43.6021 568.606 Q44.9389 562.367 47.3897 559.757 Q49.8086 557.115 54.1691 557.115 Q59.1344 557.115 62.0308 561.062 Q64.9272 564.977 64.9272 571.852 Q64.9272 574.717 64.3543 577.836 Q63.8132 580.923 62.6992 584.361 L56.6518 584.361 Q58.3387 581.114 59.198 577.963 Q60.0256 574.812 60.0256 571.725 Q60.0256 567.587 58.6251 565.359 Q57.1929 563.131 54.6147 563.131 Q52.2276 563.131 50.9545 564.754 Q49.6813 566.346 48.5037 571.788 L48.0262 573.825 Q46.8804 579.268 44.5251 581.687 Q42.138 584.106 38.0002 584.106 Q32.9713 584.106 30.2341 580.541 Q27.4968 576.976 27.4968 570.42 Q27.4968 567.173 27.9743 564.309 Q28.4517 561.444 29.4065 559.025 Z\" fill=\"#000000\" fill-rule=\"nonzero\" fill-opacity=\"1\" /><path clip-path=\"url(#clip320)\" d=\"M14.5426 548.713 L14.5426 543.62 Q22.0542 538.846 29.2474 536.491 Q36.4406 534.103 43.5384 534.103 Q50.668 534.103 57.8931 536.491 Q65.1182 538.846 72.5979 543.62 L72.5979 548.713 Q65.3091 544.479 58.1159 542.411 Q50.8908 540.31 43.5384 540.31 Q36.186 540.31 29.0246 542.411 Q21.8632 544.479 14.5426 548.713 Z\" fill=\"#000000\" fill-rule=\"nonzero\" fill-opacity=\"1\" /><polyline clip-path=\"url(#clip322)\" style=\"stroke:#0000ff; stroke-linecap:round; stroke-linejoin:round; stroke-width:4; stroke-opacity:1; fill:none\" points=\"316.401,86.1857 1304.92,690.189 1883.17,1079.19 2293.44,1329.31 \"/>\n",
       "<polyline clip-path=\"url(#clip322)\" style=\"stroke:#000000; stroke-linecap:round; stroke-linejoin:round; stroke-width:4; stroke-opacity:1; fill:none\" stroke-dasharray=\"2, 4\" points=\"316.401,86.1857 1304.92,735.212 1883.17,1114.87 2293.44,1384.24 \"/>\n",
       "<circle clip-path=\"url(#clip322)\" cx=\"316.401\" cy=\"86.1857\" r=\"10.8\" fill=\"#0000ff\" fill-rule=\"evenodd\" fill-opacity=\"1\" stroke=\"#000000\" stroke-opacity=\"1\" stroke-width=\"3.2\"/>\n",
       "<circle clip-path=\"url(#clip322)\" cx=\"1304.92\" cy=\"690.189\" r=\"10.8\" fill=\"#0000ff\" fill-rule=\"evenodd\" fill-opacity=\"1\" stroke=\"#000000\" stroke-opacity=\"1\" stroke-width=\"3.2\"/>\n",
       "<circle clip-path=\"url(#clip322)\" cx=\"1883.17\" cy=\"1079.19\" r=\"10.8\" fill=\"#0000ff\" fill-rule=\"evenodd\" fill-opacity=\"1\" stroke=\"#000000\" stroke-opacity=\"1\" stroke-width=\"3.2\"/>\n",
       "<circle clip-path=\"url(#clip322)\" cx=\"2293.44\" cy=\"1329.31\" r=\"10.8\" fill=\"#0000ff\" fill-rule=\"evenodd\" fill-opacity=\"1\" stroke=\"#000000\" stroke-opacity=\"1\" stroke-width=\"3.2\"/>\n",
       "<path clip-path=\"url(#clip320)\" d=\"M1929.63 248.629 L2282.9 248.629 L2282.9 93.1086 L1929.63 93.1086  Z\" fill=\"#ffffff\" fill-rule=\"evenodd\" fill-opacity=\"1\"/>\n",
       "<polyline clip-path=\"url(#clip320)\" style=\"stroke:#000000; stroke-linecap:round; stroke-linejoin:round; stroke-width:4; stroke-opacity:1; fill:none\" points=\"1929.63,248.629 2282.9,248.629 2282.9,93.1086 1929.63,93.1086 1929.63,248.629 \"/>\n",
       "<polyline clip-path=\"url(#clip320)\" style=\"stroke:#000000; stroke-linecap:round; stroke-linejoin:round; stroke-width:4; stroke-opacity:1; fill:none\" stroke-dasharray=\"2, 4\" points=\"1952.92,144.949 2092.63,144.949 \"/>\n",
       "<path clip-path=\"url(#clip320)\" d=\"M2115.91 127.669 L2120.59 127.669 L2120.59 162.229 L2115.91 162.229 L2115.91 127.669 Z\" fill=\"#000000\" fill-rule=\"nonzero\" fill-opacity=\"1\" /><path clip-path=\"url(#clip320)\" d=\"M2146.77 140.238 L2146.77 126.21 L2151.03 126.21 L2151.03 162.229 L2146.77 162.229 L2146.77 158.34 Q2145.43 160.655 2143.37 161.789 Q2141.33 162.9 2138.46 162.9 Q2133.76 162.9 2130.8 159.15 Q2127.86 155.4 2127.86 149.289 Q2127.86 143.178 2130.8 139.428 Q2133.76 135.678 2138.46 135.678 Q2141.33 135.678 2143.37 136.812 Q2145.43 137.923 2146.77 140.238 M2132.25 149.289 Q2132.25 153.988 2134.18 156.673 Q2136.12 159.335 2139.5 159.335 Q2142.88 159.335 2144.82 156.673 Q2146.77 153.988 2146.77 149.289 Q2146.77 144.59 2144.82 141.928 Q2142.88 139.243 2139.5 139.243 Q2136.12 139.243 2134.18 141.928 Q2132.25 144.59 2132.25 149.289 Z\" fill=\"#000000\" fill-rule=\"nonzero\" fill-opacity=\"1\" /><path clip-path=\"url(#clip320)\" d=\"M2181.98 148.201 L2181.98 150.284 L2162.39 150.284 Q2162.67 154.682 2165.03 156.997 Q2167.42 159.289 2171.65 159.289 Q2174.11 159.289 2176.4 158.687 Q2178.71 158.085 2180.98 156.881 L2180.98 160.909 Q2178.69 161.881 2176.28 162.391 Q2173.87 162.9 2171.4 162.9 Q2165.19 162.9 2161.56 159.289 Q2157.95 155.678 2157.95 149.52 Q2157.95 143.155 2161.37 139.428 Q2164.82 135.678 2170.66 135.678 Q2175.89 135.678 2178.92 139.057 Q2181.98 142.414 2181.98 148.201 M2177.72 146.951 Q2177.67 143.456 2175.75 141.372 Q2173.85 139.289 2170.7 139.289 Q2167.14 139.289 2164.99 141.303 Q2162.86 143.317 2162.53 146.974 L2177.72 146.951 Z\" fill=\"#000000\" fill-rule=\"nonzero\" fill-opacity=\"1\" /><path clip-path=\"url(#clip320)\" d=\"M2200.75 149.196 Q2195.59 149.196 2193.6 150.377 Q2191.61 151.557 2191.61 154.405 Q2191.61 156.673 2193.09 158.016 Q2194.59 159.335 2197.16 159.335 Q2200.7 159.335 2202.83 156.835 Q2204.99 154.312 2204.99 150.145 L2204.99 149.196 L2200.75 149.196 M2209.25 147.437 L2209.25 162.229 L2204.99 162.229 L2204.99 158.293 Q2203.53 160.655 2201.35 161.789 Q2199.18 162.9 2196.03 162.9 Q2192.05 162.9 2189.69 160.678 Q2187.35 158.432 2187.35 154.682 Q2187.35 150.307 2190.26 148.085 Q2193.2 145.863 2199.01 145.863 L2204.99 145.863 L2204.99 145.446 Q2204.99 142.507 2203.04 140.909 Q2201.12 139.289 2197.62 139.289 Q2195.4 139.289 2193.3 139.821 Q2191.19 140.354 2189.25 141.419 L2189.25 137.483 Q2191.58 136.581 2193.78 136.141 Q2195.98 135.678 2198.06 135.678 Q2203.69 135.678 2206.47 138.594 Q2209.25 141.511 2209.25 147.437 Z\" fill=\"#000000\" fill-rule=\"nonzero\" fill-opacity=\"1\" /><path clip-path=\"url(#clip320)\" d=\"M2218.02 126.21 L2222.28 126.21 L2222.28 162.229 L2218.02 162.229 L2218.02 126.21 Z\" fill=\"#000000\" fill-rule=\"nonzero\" fill-opacity=\"1\" /><circle clip-path=\"url(#clip320)\" cx=\"2022.77\" cy=\"196.789\" r=\"19.7486\" fill=\"#0000ff\" fill-rule=\"evenodd\" fill-opacity=\"1\" stroke=\"#000000\" stroke-opacity=\"1\" stroke-width=\"5.85143\"/>\n",
       "<path clip-path=\"url(#clip320)\" d=\"M2131.75 184.115 L2125.4 201.314 L2138.11 201.314 L2131.75 184.115 M2129.11 179.509 L2134.41 179.509 L2147.58 214.069 L2142.72 214.069 L2139.57 205.203 L2123.99 205.203 L2120.84 214.069 L2115.91 214.069 L2129.11 179.509 Z\" fill=\"#000000\" fill-rule=\"nonzero\" fill-opacity=\"1\" /><path clip-path=\"url(#clip320)\" d=\"M2170.26 189.138 L2170.26 193.12 Q2168.46 192.124 2166.63 191.638 Q2164.82 191.129 2162.97 191.129 Q2158.83 191.129 2156.54 193.768 Q2154.25 196.384 2154.25 201.129 Q2154.25 205.874 2156.54 208.513 Q2158.83 211.129 2162.97 211.129 Q2164.82 211.129 2166.63 210.643 Q2168.46 210.133 2170.26 209.138 L2170.26 213.073 Q2168.48 213.907 2166.56 214.323 Q2164.66 214.74 2162.51 214.74 Q2156.65 214.74 2153.2 211.059 Q2149.75 207.379 2149.75 201.129 Q2149.75 194.786 2153.23 191.152 Q2156.72 187.518 2162.79 187.518 Q2164.75 187.518 2166.63 187.935 Q2168.5 188.328 2170.26 189.138 Z\" fill=\"#000000\" fill-rule=\"nonzero\" fill-opacity=\"1\" /><path clip-path=\"url(#clip320)\" d=\"M2181.88 180.782 L2181.88 188.143 L2190.66 188.143 L2190.66 191.453 L2181.88 191.453 L2181.88 205.527 Q2181.88 208.698 2182.74 209.601 Q2183.62 210.504 2186.28 210.504 L2190.66 210.504 L2190.66 214.069 L2186.28 214.069 Q2181.35 214.069 2179.48 212.24 Q2177.6 210.388 2177.6 205.527 L2177.6 191.453 L2174.48 191.453 L2174.48 188.143 L2177.6 188.143 L2177.6 180.782 L2181.88 180.782 Z\" fill=\"#000000\" fill-rule=\"nonzero\" fill-opacity=\"1\" /><path clip-path=\"url(#clip320)\" d=\"M2195.82 203.837 L2195.82 188.143 L2200.08 188.143 L2200.08 203.675 Q2200.08 207.356 2201.51 209.208 Q2202.95 211.036 2205.82 211.036 Q2209.27 211.036 2211.26 208.837 Q2213.27 206.638 2213.27 202.842 L2213.27 188.143 L2217.53 188.143 L2217.53 214.069 L2213.27 214.069 L2213.27 210.087 Q2211.72 212.448 2209.66 213.606 Q2207.62 214.74 2204.92 214.74 Q2200.45 214.74 2198.13 211.962 Q2195.82 209.184 2195.82 203.837 M2206.54 187.518 L2206.54 187.518 Z\" fill=\"#000000\" fill-rule=\"nonzero\" fill-opacity=\"1\" /><path clip-path=\"url(#clip320)\" d=\"M2238.09 201.036 Q2232.93 201.036 2230.93 202.217 Q2228.94 203.397 2228.94 206.245 Q2228.94 208.513 2230.43 209.856 Q2231.93 211.175 2234.5 211.175 Q2238.04 211.175 2240.17 208.675 Q2242.32 206.152 2242.32 201.985 L2242.32 201.036 L2238.09 201.036 M2246.58 199.277 L2246.58 214.069 L2242.32 214.069 L2242.32 210.133 Q2240.87 212.495 2238.69 213.629 Q2236.51 214.74 2233.37 214.74 Q2229.38 214.74 2227.02 212.518 Q2224.68 210.272 2224.68 206.522 Q2224.68 202.147 2227.6 199.925 Q2230.54 197.703 2236.35 197.703 L2242.32 197.703 L2242.32 197.286 Q2242.32 194.347 2240.38 192.749 Q2238.46 191.129 2234.96 191.129 Q2232.74 191.129 2230.63 191.661 Q2228.53 192.194 2226.58 193.259 L2226.58 189.323 Q2228.92 188.421 2231.12 187.981 Q2233.32 187.518 2235.4 187.518 Q2241.03 187.518 2243.81 190.434 Q2246.58 193.351 2246.58 199.277 Z\" fill=\"#000000\" fill-rule=\"nonzero\" fill-opacity=\"1\" /><path clip-path=\"url(#clip320)\" d=\"M2255.36 178.05 L2259.62 178.05 L2259.62 214.069 L2255.36 214.069 L2255.36 178.05 Z\" fill=\"#000000\" fill-rule=\"nonzero\" fill-opacity=\"1\" /></svg>\n"
      ],
      "text/html": [
       "<?xml version=\"1.0\" encoding=\"utf-8\"?>\n",
       "<svg xmlns=\"http://www.w3.org/2000/svg\" xmlns:xlink=\"http://www.w3.org/1999/xlink\" width=\"600\" height=\"400\" viewBox=\"0 0 2400 1600\">\n",
       "<defs>\n",
       "  <clipPath id=\"clip370\">\n",
       "    <rect x=\"0\" y=\"0\" width=\"2400\" height=\"1600\"/>\n",
       "  </clipPath>\n",
       "</defs>\n",
       "<path clip-path=\"url(#clip370)\" d=\"M0 1600 L2400 1600 L2400 0 L0 0  Z\" fill=\"#ffffff\" fill-rule=\"evenodd\" fill-opacity=\"1\"/>\n",
       "<defs>\n",
       "  <clipPath id=\"clip371\">\n",
       "    <rect x=\"480\" y=\"0\" width=\"1681\" height=\"1600\"/>\n",
       "  </clipPath>\n",
       "</defs>\n",
       "<path clip-path=\"url(#clip370)\" d=\"M257.09 1423.18 L2352.76 1423.18 L2352.76 47.2441 L257.09 47.2441  Z\" fill=\"#ffffff\" fill-rule=\"evenodd\" fill-opacity=\"1\"/>\n",
       "<defs>\n",
       "  <clipPath id=\"clip372\">\n",
       "    <rect x=\"257\" y=\"47\" width=\"2097\" height=\"1377\"/>\n",
       "  </clipPath>\n",
       "</defs>\n",
       "<polyline clip-path=\"url(#clip372)\" style=\"stroke:#000000; stroke-linecap:round; stroke-linejoin:round; stroke-width:2; stroke-opacity:0.1; fill:none\" points=\"316.401,1423.18 316.401,47.2441 \"/>\n",
       "<polyline clip-path=\"url(#clip372)\" style=\"stroke:#000000; stroke-linecap:round; stroke-linejoin:round; stroke-width:2; stroke-opacity:0.1; fill:none\" points=\"1304.92,1423.18 1304.92,47.2441 \"/>\n",
       "<polyline clip-path=\"url(#clip372)\" style=\"stroke:#000000; stroke-linecap:round; stroke-linejoin:round; stroke-width:2; stroke-opacity:0.1; fill:none\" points=\"1883.17,1423.18 1883.17,47.2441 \"/>\n",
       "<polyline clip-path=\"url(#clip372)\" style=\"stroke:#000000; stroke-linecap:round; stroke-linejoin:round; stroke-width:2; stroke-opacity:0.1; fill:none\" points=\"2293.44,1423.18 2293.44,47.2441 \"/>\n",
       "<polyline clip-path=\"url(#clip370)\" style=\"stroke:#000000; stroke-linecap:round; stroke-linejoin:round; stroke-width:4; stroke-opacity:1; fill:none\" points=\"257.09,1423.18 2352.76,1423.18 \"/>\n",
       "<polyline clip-path=\"url(#clip370)\" style=\"stroke:#000000; stroke-linecap:round; stroke-linejoin:round; stroke-width:4; stroke-opacity:1; fill:none\" points=\"316.401,1423.18 316.401,1404.28 \"/>\n",
       "<polyline clip-path=\"url(#clip370)\" style=\"stroke:#000000; stroke-linecap:round; stroke-linejoin:round; stroke-width:4; stroke-opacity:1; fill:none\" points=\"1304.92,1423.18 1304.92,1404.28 \"/>\n",
       "<polyline clip-path=\"url(#clip370)\" style=\"stroke:#000000; stroke-linecap:round; stroke-linejoin:round; stroke-width:4; stroke-opacity:1; fill:none\" points=\"1883.17,1423.18 1883.17,1404.28 \"/>\n",
       "<polyline clip-path=\"url(#clip370)\" style=\"stroke:#000000; stroke-linecap:round; stroke-linejoin:round; stroke-width:4; stroke-opacity:1; fill:none\" points=\"2293.44,1423.18 2293.44,1404.28 \"/>\n",
       "<path clip-path=\"url(#clip370)\" d=\"M306.783 1481.64 L314.422 1481.64 L314.422 1455.28 L306.112 1456.95 L306.112 1452.69 L314.376 1451.02 L319.051 1451.02 L319.051 1481.64 L326.69 1481.64 L326.69 1485.58 L306.783 1485.58 L306.783 1481.64 Z\" fill=\"#000000\" fill-rule=\"nonzero\" fill-opacity=\"1\" /><path clip-path=\"url(#clip370)\" d=\"M1299.58 1481.64 L1315.89 1481.64 L1315.89 1485.58 L1293.95 1485.58 L1293.95 1481.64 Q1296.61 1478.89 1301.2 1474.26 Q1305.8 1469.61 1306.98 1468.27 Q1309.23 1465.74 1310.11 1464.01 Q1311.01 1462.25 1311.01 1460.56 Q1311.01 1457.8 1309.07 1456.07 Q1307.15 1454.33 1304.04 1454.33 Q1301.84 1454.33 1299.39 1455.09 Q1296.96 1455.86 1294.18 1457.41 L1294.18 1452.69 Q1297.01 1451.55 1299.46 1450.97 Q1301.91 1450.39 1303.95 1450.39 Q1309.32 1450.39 1312.52 1453.08 Q1315.71 1455.77 1315.71 1460.26 Q1315.71 1462.39 1314.9 1464.31 Q1314.11 1466.2 1312.01 1468.8 Q1311.43 1469.47 1308.33 1472.69 Q1305.22 1475.88 1299.58 1481.64 Z\" fill=\"#000000\" fill-rule=\"nonzero\" fill-opacity=\"1\" /><path clip-path=\"url(#clip370)\" d=\"M1887.42 1466.95 Q1890.78 1467.66 1892.65 1469.93 Q1894.55 1472.2 1894.55 1475.53 Q1894.55 1480.65 1891.03 1483.45 Q1887.51 1486.25 1881.03 1486.25 Q1878.85 1486.25 1876.54 1485.81 Q1874.25 1485.39 1871.79 1484.54 L1871.79 1480.02 Q1873.74 1481.16 1876.05 1481.74 Q1878.37 1482.32 1880.89 1482.32 Q1885.29 1482.32 1887.58 1480.58 Q1889.9 1478.84 1889.9 1475.53 Q1889.9 1472.48 1887.74 1470.77 Q1885.61 1469.03 1881.79 1469.03 L1877.77 1469.03 L1877.77 1465.19 L1881.98 1465.19 Q1885.43 1465.19 1887.26 1463.82 Q1889.09 1462.43 1889.09 1459.84 Q1889.09 1457.18 1887.19 1455.77 Q1885.31 1454.33 1881.79 1454.33 Q1879.87 1454.33 1877.67 1454.75 Q1875.47 1455.16 1872.84 1456.04 L1872.84 1451.88 Q1875.5 1451.14 1877.81 1450.77 Q1880.15 1450.39 1882.21 1450.39 Q1887.53 1450.39 1890.64 1452.83 Q1893.74 1455.23 1893.74 1459.35 Q1893.74 1462.22 1892.09 1464.21 Q1890.45 1466.18 1887.42 1466.95 Z\" fill=\"#000000\" fill-rule=\"nonzero\" fill-opacity=\"1\" /><path clip-path=\"url(#clip370)\" d=\"M2296.45 1455.09 L2284.65 1473.54 L2296.45 1473.54 L2296.45 1455.09 M2295.23 1451.02 L2301.11 1451.02 L2301.11 1473.54 L2306.04 1473.54 L2306.04 1477.43 L2301.11 1477.43 L2301.11 1485.58 L2296.45 1485.58 L2296.45 1477.43 L2280.85 1477.43 L2280.85 1472.92 L2295.23 1451.02 Z\" fill=\"#000000\" fill-rule=\"nonzero\" fill-opacity=\"1\" /><path clip-path=\"url(#clip370)\" d=\"M998.51 1520.52 L1007.17 1520.52 L1028.24 1560.28 L1028.24 1520.52 L1034.48 1520.52 L1034.48 1568.04 L1025.82 1568.04 L1004.75 1528.29 L1004.75 1568.04 L998.51 1568.04 L998.51 1520.52 Z\" fill=\"#000000\" fill-rule=\"nonzero\" fill-opacity=\"1\" /><path clip-path=\"url(#clip370)\" d=\"M1046.41 1553.98 L1046.41 1532.4 L1052.27 1532.4 L1052.27 1553.75 Q1052.27 1558.81 1054.24 1561.36 Q1056.21 1563.87 1060.16 1563.87 Q1064.9 1563.87 1067.64 1560.85 Q1070.41 1557.83 1070.41 1552.61 L1070.41 1532.4 L1076.27 1532.4 L1076.27 1568.04 L1070.41 1568.04 L1070.41 1562.57 Q1068.28 1565.82 1065.44 1567.41 Q1062.64 1568.97 1058.92 1568.97 Q1052.78 1568.97 1049.59 1565.15 Q1046.41 1561.33 1046.41 1553.98 M1061.15 1531.54 L1061.15 1531.54 Z\" fill=\"#000000\" fill-rule=\"nonzero\" fill-opacity=\"1\" /><path clip-path=\"url(#clip370)\" d=\"M1116.08 1539.24 Q1118.28 1535.29 1121.34 1533.41 Q1124.39 1531.54 1128.53 1531.54 Q1134.1 1531.54 1137.12 1535.45 Q1140.15 1539.33 1140.15 1546.53 L1140.15 1568.04 L1134.26 1568.04 L1134.26 1546.72 Q1134.26 1541.59 1132.44 1539.11 Q1130.63 1536.63 1126.91 1536.63 Q1122.35 1536.63 1119.71 1539.65 Q1117.07 1542.68 1117.07 1547.9 L1117.07 1568.04 L1111.18 1568.04 L1111.18 1546.72 Q1111.18 1541.56 1109.37 1539.11 Q1107.55 1536.63 1103.77 1536.63 Q1099.28 1536.63 1096.64 1539.68 Q1094 1542.71 1094 1547.9 L1094 1568.04 L1088.11 1568.04 L1088.11 1532.4 L1094 1532.4 L1094 1537.93 Q1096 1534.66 1098.8 1533.1 Q1101.6 1531.54 1105.45 1531.54 Q1109.34 1531.54 1112.04 1533.51 Q1114.78 1535.48 1116.08 1539.24 Z\" fill=\"#000000\" fill-rule=\"nonzero\" fill-opacity=\"1\" /><path clip-path=\"url(#clip370)\" d=\"M1177.42 1550.25 Q1177.42 1543.79 1174.74 1540.13 Q1172.1 1536.44 1167.46 1536.44 Q1162.81 1536.44 1160.13 1540.13 Q1157.49 1543.79 1157.49 1550.25 Q1157.49 1556.71 1160.13 1560.4 Q1162.81 1564.07 1167.46 1564.07 Q1172.1 1564.07 1174.74 1560.4 Q1177.42 1556.71 1177.42 1550.25 M1157.49 1537.81 Q1159.34 1534.62 1162.14 1533.1 Q1164.97 1531.54 1168.89 1531.54 Q1175.38 1531.54 1179.42 1536.69 Q1183.5 1541.85 1183.5 1550.25 Q1183.5 1558.65 1179.42 1563.81 Q1175.38 1568.97 1168.89 1568.97 Q1164.97 1568.97 1162.14 1567.44 Q1159.34 1565.88 1157.49 1562.7 L1157.49 1568.04 L1151.6 1568.04 L1151.6 1518.52 L1157.49 1518.52 L1157.49 1537.81 Z\" fill=\"#000000\" fill-rule=\"nonzero\" fill-opacity=\"1\" /><path clip-path=\"url(#clip370)\" d=\"M1223.7 1548.76 L1223.7 1551.62 L1196.77 1551.62 Q1197.15 1557.67 1200.4 1560.85 Q1203.68 1564 1209.5 1564 Q1212.87 1564 1216.03 1563.17 Q1219.21 1562.35 1222.33 1560.69 L1222.33 1566.23 Q1219.18 1567.57 1215.87 1568.27 Q1212.56 1568.97 1209.15 1568.97 Q1200.62 1568.97 1195.62 1564 Q1190.66 1559.04 1190.66 1550.57 Q1190.66 1541.82 1195.37 1536.69 Q1200.11 1531.54 1208.13 1531.54 Q1215.33 1531.54 1219.5 1536.18 Q1223.7 1540.8 1223.7 1548.76 M1217.84 1547.04 Q1217.78 1542.23 1215.13 1539.37 Q1212.52 1536.5 1208.2 1536.5 Q1203.29 1536.5 1200.33 1539.27 Q1197.41 1542.04 1196.96 1547.07 L1217.84 1547.04 Z\" fill=\"#000000\" fill-rule=\"nonzero\" fill-opacity=\"1\" /><path clip-path=\"url(#clip370)\" d=\"M1253.97 1537.87 Q1252.98 1537.3 1251.8 1537.04 Q1250.66 1536.76 1249.25 1536.76 Q1244.29 1536.76 1241.62 1540 Q1238.97 1543.22 1238.97 1549.27 L1238.97 1568.04 L1233.09 1568.04 L1233.09 1532.4 L1238.97 1532.4 L1238.97 1537.93 Q1240.82 1534.69 1243.78 1533.13 Q1246.74 1531.54 1250.97 1531.54 Q1251.58 1531.54 1252.31 1531.63 Q1253.04 1531.7 1253.93 1531.85 L1253.97 1537.87 Z\" fill=\"#000000\" fill-rule=\"nonzero\" fill-opacity=\"1\" /><path clip-path=\"url(#clip370)\" d=\"M1294.64 1536.5 Q1289.93 1536.5 1287.19 1540.19 Q1284.46 1543.85 1284.46 1550.25 Q1284.46 1556.65 1287.16 1560.34 Q1289.9 1564 1294.64 1564 Q1299.32 1564 1302.06 1560.31 Q1304.8 1556.62 1304.8 1550.25 Q1304.8 1543.92 1302.06 1540.23 Q1299.32 1536.5 1294.64 1536.5 M1294.64 1531.54 Q1302.28 1531.54 1306.64 1536.5 Q1311 1541.47 1311 1550.25 Q1311 1559 1306.64 1564 Q1302.28 1568.97 1294.64 1568.97 Q1286.97 1568.97 1282.61 1564 Q1278.28 1559 1278.28 1550.25 Q1278.28 1541.47 1282.61 1536.5 Q1286.97 1531.54 1294.64 1531.54 Z\" fill=\"#000000\" fill-rule=\"nonzero\" fill-opacity=\"1\" /><path clip-path=\"url(#clip370)\" d=\"M1338.76 1518.52 L1338.76 1523.39 L1333.15 1523.39 Q1330 1523.39 1328.76 1524.66 Q1327.55 1525.93 1327.55 1529.24 L1327.55 1532.4 L1337.2 1532.4 L1337.2 1536.95 L1327.55 1536.95 L1327.55 1568.04 L1321.66 1568.04 L1321.66 1536.95 L1316.06 1536.95 L1316.06 1532.4 L1321.66 1532.4 L1321.66 1529.91 Q1321.66 1523.96 1324.43 1521.26 Q1327.2 1518.52 1333.22 1518.52 L1338.76 1518.52 Z\" fill=\"#000000\" fill-rule=\"nonzero\" fill-opacity=\"1\" /><path clip-path=\"url(#clip370)\" d=\"M1360.97 1532.4 L1366.83 1532.4 L1374.15 1560.21 L1381.44 1532.4 L1388.35 1532.4 L1395.67 1560.21 L1402.95 1532.4 L1408.81 1532.4 L1399.49 1568.04 L1392.58 1568.04 L1384.91 1538.83 L1377.21 1568.04 L1370.3 1568.04 L1360.97 1532.4 Z\" fill=\"#000000\" fill-rule=\"nonzero\" fill-opacity=\"1\" /><path clip-path=\"url(#clip370)\" d=\"M1431.5 1536.5 Q1426.79 1536.5 1424.06 1540.19 Q1421.32 1543.85 1421.32 1550.25 Q1421.32 1556.65 1424.03 1560.34 Q1426.76 1564 1431.5 1564 Q1436.18 1564 1438.92 1560.31 Q1441.66 1556.62 1441.66 1550.25 Q1441.66 1543.92 1438.92 1540.23 Q1436.18 1536.5 1431.5 1536.5 M1431.5 1531.54 Q1439.14 1531.54 1443.5 1536.5 Q1447.86 1541.47 1447.86 1550.25 Q1447.86 1559 1443.5 1564 Q1439.14 1568.97 1431.5 1568.97 Q1423.83 1568.97 1419.47 1564 Q1415.15 1559 1415.15 1550.25 Q1415.15 1541.47 1419.47 1536.5 Q1423.83 1531.54 1431.5 1531.54 Z\" fill=\"#000000\" fill-rule=\"nonzero\" fill-opacity=\"1\" /><path clip-path=\"url(#clip370)\" d=\"M1478.23 1537.87 Q1477.24 1537.3 1476.06 1537.04 Q1474.92 1536.76 1473.52 1536.76 Q1468.55 1536.76 1465.88 1540 Q1463.24 1543.22 1463.24 1549.27 L1463.24 1568.04 L1457.35 1568.04 L1457.35 1532.4 L1463.24 1532.4 L1463.24 1537.93 Q1465.08 1534.69 1468.04 1533.13 Q1471 1531.54 1475.24 1531.54 Q1475.84 1531.54 1476.57 1531.63 Q1477.31 1531.7 1478.2 1531.85 L1478.23 1537.87 Z\" fill=\"#000000\" fill-rule=\"nonzero\" fill-opacity=\"1\" /><path clip-path=\"url(#clip370)\" d=\"M1484.15 1518.52 L1490.04 1518.52 L1490.04 1547.77 L1507.51 1532.4 L1514.99 1532.4 L1496.08 1549.07 L1515.79 1568.04 L1508.15 1568.04 L1490.04 1550.63 L1490.04 1568.04 L1484.15 1568.04 L1484.15 1518.52 Z\" fill=\"#000000\" fill-rule=\"nonzero\" fill-opacity=\"1\" /><path clip-path=\"url(#clip370)\" d=\"M1550.29 1548.76 L1550.29 1551.62 L1523.36 1551.62 Q1523.74 1557.67 1526.99 1560.85 Q1530.27 1564 1536.09 1564 Q1539.47 1564 1542.62 1563.17 Q1545.8 1562.35 1548.92 1560.69 L1548.92 1566.23 Q1545.77 1567.57 1542.46 1568.27 Q1539.15 1568.97 1535.74 1568.97 Q1527.21 1568.97 1522.22 1564 Q1517.25 1559.04 1517.25 1550.57 Q1517.25 1541.82 1521.96 1536.69 Q1526.7 1531.54 1534.72 1531.54 Q1541.92 1531.54 1546.09 1536.18 Q1550.29 1540.8 1550.29 1548.76 M1544.43 1547.04 Q1544.37 1542.23 1541.73 1539.37 Q1539.12 1536.5 1534.79 1536.5 Q1529.89 1536.5 1526.93 1539.27 Q1524 1542.04 1523.55 1547.07 L1544.43 1547.04 Z\" fill=\"#000000\" fill-rule=\"nonzero\" fill-opacity=\"1\" /><path clip-path=\"url(#clip370)\" d=\"M1580.56 1537.87 Q1579.57 1537.3 1578.39 1537.04 Q1577.25 1536.76 1575.85 1536.76 Q1570.88 1536.76 1568.21 1540 Q1565.57 1543.22 1565.57 1549.27 L1565.57 1568.04 L1559.68 1568.04 L1559.68 1532.4 L1565.57 1532.4 L1565.57 1537.93 Q1567.41 1534.69 1570.37 1533.13 Q1573.33 1531.54 1577.57 1531.54 Q1578.17 1531.54 1578.9 1531.63 Q1579.63 1531.7 1580.53 1531.85 L1580.56 1537.87 Z\" fill=\"#000000\" fill-rule=\"nonzero\" fill-opacity=\"1\" /><path clip-path=\"url(#clip370)\" d=\"M1609.43 1533.45 L1609.43 1538.98 Q1606.94 1537.71 1604.27 1537.07 Q1601.6 1536.44 1598.73 1536.44 Q1594.37 1536.44 1592.18 1537.77 Q1590.01 1539.11 1590.01 1541.79 Q1590.01 1543.82 1591.57 1545 Q1593.13 1546.15 1597.84 1547.2 L1599.85 1547.64 Q1606.08 1548.98 1608.69 1551.43 Q1611.34 1553.85 1611.34 1558.21 Q1611.34 1563.17 1607.39 1566.07 Q1603.47 1568.97 1596.6 1568.97 Q1593.73 1568.97 1590.62 1568.39 Q1587.53 1567.85 1584.09 1566.74 L1584.09 1560.69 Q1587.34 1562.38 1590.49 1563.24 Q1593.64 1564.07 1596.73 1564.07 Q1600.86 1564.07 1603.09 1562.66 Q1605.32 1561.23 1605.32 1558.65 Q1605.32 1556.27 1603.7 1554.99 Q1602.11 1553.72 1596.66 1552.54 L1594.63 1552.07 Q1589.18 1550.92 1586.76 1548.56 Q1584.35 1546.18 1584.35 1542.04 Q1584.35 1537.01 1587.91 1534.27 Q1591.48 1531.54 1598.03 1531.54 Q1601.28 1531.54 1604.14 1532.01 Q1607.01 1532.49 1609.43 1533.45 Z\" fill=\"#000000\" fill-rule=\"nonzero\" fill-opacity=\"1\" /><polyline clip-path=\"url(#clip372)\" style=\"stroke:#000000; stroke-linecap:round; stroke-linejoin:round; stroke-width:2; stroke-opacity:0.1; fill:none\" points=\"257.09,1173.53 2352.76,1173.53 \"/>\n",
       "<polyline clip-path=\"url(#clip372)\" style=\"stroke:#000000; stroke-linecap:round; stroke-linejoin:round; stroke-width:2; stroke-opacity:0.1; fill:none\" points=\"257.09,742.329 2352.76,742.329 \"/>\n",
       "<polyline clip-path=\"url(#clip372)\" style=\"stroke:#000000; stroke-linecap:round; stroke-linejoin:round; stroke-width:2; stroke-opacity:0.1; fill:none\" points=\"257.09,311.126 2352.76,311.126 \"/>\n",
       "<polyline clip-path=\"url(#clip370)\" style=\"stroke:#000000; stroke-linecap:round; stroke-linejoin:round; stroke-width:4; stroke-opacity:1; fill:none\" points=\"257.09,1423.18 257.09,47.2441 \"/>\n",
       "<polyline clip-path=\"url(#clip370)\" style=\"stroke:#000000; stroke-linecap:round; stroke-linejoin:round; stroke-width:4; stroke-opacity:1; fill:none\" points=\"257.09,1173.53 275.987,1173.53 \"/>\n",
       "<polyline clip-path=\"url(#clip370)\" style=\"stroke:#000000; stroke-linecap:round; stroke-linejoin:round; stroke-width:4; stroke-opacity:1; fill:none\" points=\"257.09,742.329 275.987,742.329 \"/>\n",
       "<polyline clip-path=\"url(#clip370)\" style=\"stroke:#000000; stroke-linecap:round; stroke-linejoin:round; stroke-width:4; stroke-opacity:1; fill:none\" points=\"257.09,311.126 275.987,311.126 \"/>\n",
       "<path clip-path=\"url(#clip370)\" d=\"M115.326 1193.33 L122.965 1193.33 L122.965 1166.96 L114.655 1168.63 L114.655 1164.37 L122.919 1162.7 L127.595 1162.7 L127.595 1193.33 L135.234 1193.33 L135.234 1197.26 L115.326 1197.26 L115.326 1193.33 Z\" fill=\"#000000\" fill-rule=\"nonzero\" fill-opacity=\"1\" /><path clip-path=\"url(#clip370)\" d=\"M154.678 1165.78 Q151.067 1165.78 149.238 1169.34 Q147.433 1172.89 147.433 1180.02 Q147.433 1187.12 149.238 1190.69 Q151.067 1194.23 154.678 1194.23 Q158.312 1194.23 160.118 1190.69 Q161.947 1187.12 161.947 1180.02 Q161.947 1172.89 160.118 1169.34 Q158.312 1165.78 154.678 1165.78 M154.678 1162.08 Q160.488 1162.08 163.544 1166.68 Q166.622 1171.27 166.622 1180.02 Q166.622 1188.74 163.544 1193.35 Q160.488 1197.93 154.678 1197.93 Q148.868 1197.93 145.789 1193.35 Q142.734 1188.74 142.734 1180.02 Q142.734 1171.27 145.789 1166.68 Q148.868 1162.08 154.678 1162.08 Z\" fill=\"#000000\" fill-rule=\"nonzero\" fill-opacity=\"1\" /><path clip-path=\"url(#clip370)\" d=\"M167.168 1166.65 L173.374 1166.65 L173.374 1145.23 L166.622 1146.59 L166.622 1143.12 L173.337 1141.77 L177.136 1141.77 L177.136 1166.65 L183.343 1166.65 L183.343 1169.85 L167.168 1169.85 L167.168 1166.65 Z\" fill=\"#000000\" fill-rule=\"nonzero\" fill-opacity=\"1\" /><path clip-path=\"url(#clip370)\" d=\"M191.016 1165.07 L194.985 1165.07 L194.985 1169.85 L191.016 1169.85 L191.016 1165.07 Z\" fill=\"#000000\" fill-rule=\"nonzero\" fill-opacity=\"1\" /><path clip-path=\"url(#clip370)\" d=\"M211.385 1144.27 Q208.451 1144.27 206.965 1147.17 Q205.498 1150.05 205.498 1155.84 Q205.498 1161.61 206.965 1164.51 Q208.451 1167.39 211.385 1167.39 Q214.338 1167.39 215.805 1164.51 Q217.291 1161.61 217.291 1155.84 Q217.291 1150.05 215.805 1147.17 Q214.338 1144.27 211.385 1144.27 M211.385 1141.26 Q216.106 1141.26 218.588 1145.01 Q221.09 1148.73 221.09 1155.84 Q221.09 1162.93 218.588 1166.67 Q216.106 1170.4 211.385 1170.4 Q206.664 1170.4 204.163 1166.67 Q201.68 1162.93 201.68 1155.84 Q201.68 1148.73 204.163 1145.01 Q206.664 1141.26 211.385 1141.26 Z\" fill=\"#000000\" fill-rule=\"nonzero\" fill-opacity=\"1\" /><path clip-path=\"url(#clip370)\" d=\"M116.624 762.122 L124.263 762.122 L124.263 735.756 L115.953 737.423 L115.953 733.164 L124.217 731.497 L128.893 731.497 L128.893 762.122 L136.531 762.122 L136.531 766.057 L116.624 766.057 L116.624 762.122 Z\" fill=\"#000000\" fill-rule=\"nonzero\" fill-opacity=\"1\" /><path clip-path=\"url(#clip370)\" d=\"M155.976 734.576 Q152.365 734.576 150.536 738.14 Q148.73 741.682 148.73 748.812 Q148.73 755.918 150.536 759.483 Q152.365 763.025 155.976 763.025 Q159.61 763.025 161.416 759.483 Q163.244 755.918 163.244 748.812 Q163.244 741.682 161.416 738.14 Q159.61 734.576 155.976 734.576 M155.976 730.872 Q161.786 730.872 164.841 735.478 Q167.92 740.062 167.92 748.812 Q167.92 757.538 164.841 762.145 Q161.786 766.728 155.976 766.728 Q150.166 766.728 147.087 762.145 Q144.031 757.538 144.031 748.812 Q144.031 740.062 147.087 735.478 Q150.166 730.872 155.976 730.872 Z\" fill=\"#000000\" fill-rule=\"nonzero\" fill-opacity=\"1\" /><path clip-path=\"url(#clip370)\" d=\"M168.466 735.449 L174.672 735.449 L174.672 714.027 L167.92 715.381 L167.92 711.921 L174.635 710.567 L178.434 710.567 L178.434 735.449 L184.64 735.449 L184.64 738.647 L168.466 738.647 L168.466 735.449 Z\" fill=\"#000000\" fill-rule=\"nonzero\" fill-opacity=\"1\" /><path clip-path=\"url(#clip370)\" d=\"M192.314 733.869 L196.282 733.869 L196.282 738.647 L192.314 738.647 L192.314 733.869 Z\" fill=\"#000000\" fill-rule=\"nonzero\" fill-opacity=\"1\" /><path clip-path=\"url(#clip370)\" d=\"M207.83 735.449 L221.09 735.449 L221.09 738.647 L203.26 738.647 L203.26 735.449 Q205.423 733.211 209.147 729.45 Q212.89 725.669 213.849 724.578 Q215.673 722.528 216.388 721.118 Q217.121 719.688 217.121 718.315 Q217.121 716.077 215.541 714.667 Q213.98 713.256 211.46 713.256 Q209.673 713.256 207.68 713.877 Q205.705 714.497 203.448 715.758 L203.448 711.921 Q205.743 710.999 207.736 710.529 Q209.73 710.059 211.385 710.059 Q215.748 710.059 218.344 712.24 Q220.939 714.422 220.939 718.071 Q220.939 719.801 220.281 721.362 Q219.642 722.904 217.93 725.011 Q217.46 725.556 214.94 728.171 Q212.419 730.766 207.83 735.449 Z\" fill=\"#000000\" fill-rule=\"nonzero\" fill-opacity=\"1\" /><path clip-path=\"url(#clip370)\" d=\"M114.931 330.918 L122.57 330.918 L122.57 304.552 L114.26 306.219 L114.26 301.96 L122.524 300.293 L127.2 300.293 L127.2 330.918 L134.839 330.918 L134.839 334.853 L114.931 334.853 L114.931 330.918 Z\" fill=\"#000000\" fill-rule=\"nonzero\" fill-opacity=\"1\" /><path clip-path=\"url(#clip370)\" d=\"M154.283 303.372 Q150.672 303.372 148.843 306.937 Q147.038 310.478 147.038 317.608 Q147.038 324.714 148.843 328.279 Q150.672 331.821 154.283 331.821 Q157.917 331.821 159.723 328.279 Q161.552 324.714 161.552 317.608 Q161.552 310.478 159.723 306.937 Q157.917 303.372 154.283 303.372 M154.283 299.668 Q160.093 299.668 163.149 304.275 Q166.227 308.858 166.227 317.608 Q166.227 326.335 163.149 330.941 Q160.093 335.525 154.283 335.525 Q148.473 335.525 145.394 330.941 Q142.339 326.335 142.339 317.608 Q142.339 308.858 145.394 304.275 Q148.473 299.668 154.283 299.668 Z\" fill=\"#000000\" fill-rule=\"nonzero\" fill-opacity=\"1\" /><path clip-path=\"url(#clip370)\" d=\"M166.773 304.246 L172.979 304.246 L172.979 282.823 L166.227 284.178 L166.227 280.717 L172.942 279.363 L176.741 279.363 L176.741 304.246 L182.948 304.246 L182.948 307.443 L166.773 307.443 L166.773 304.246 Z\" fill=\"#000000\" fill-rule=\"nonzero\" fill-opacity=\"1\" /><path clip-path=\"url(#clip370)\" d=\"M190.621 302.666 L194.59 302.666 L194.59 307.443 L190.621 307.443 L190.621 302.666 Z\" fill=\"#000000\" fill-rule=\"nonzero\" fill-opacity=\"1\" /><path clip-path=\"url(#clip370)\" d=\"M213.303 282.673 L203.711 297.663 L213.303 297.663 L213.303 282.673 M212.307 279.363 L217.084 279.363 L217.084 297.663 L221.09 297.663 L221.09 300.822 L217.084 300.822 L217.084 307.443 L213.303 307.443 L213.303 300.822 L200.627 300.822 L200.627 297.155 L212.307 279.363 Z\" fill=\"#000000\" fill-rule=\"nonzero\" fill-opacity=\"1\" /><path clip-path=\"url(#clip370)\" d=\"M16.4842 936.321 L16.4842 929.828 L56.6518 919.833 L16.4842 909.871 L16.4842 902.646 L56.6518 892.652 L16.4842 882.689 L16.4842 876.165 L64.0042 888.1 L64.0042 896.185 L22.7544 906.211 L64.0042 916.332 L64.0042 924.417 L16.4842 936.321 Z\" fill=\"#000000\" fill-rule=\"nonzero\" fill-opacity=\"1\" /><path clip-path=\"url(#clip370)\" d=\"M46.0847 855.858 Q46.0847 862.956 47.7079 865.693 Q49.3312 868.43 53.2461 868.43 Q56.3653 868.43 58.2114 866.393 Q60.0256 864.324 60.0256 860.791 Q60.0256 855.922 56.5881 852.993 Q53.1188 850.033 47.3897 850.033 L46.0847 850.033 L46.0847 855.858 M43.6657 844.177 L64.0042 844.177 L64.0042 850.033 L58.5933 850.033 Q61.8398 852.039 63.3994 855.03 Q64.9272 858.022 64.9272 862.351 Q64.9272 867.826 61.8716 871.072 Q58.7843 874.287 53.6281 874.287 Q47.6125 874.287 44.5569 870.276 Q41.5014 866.234 41.5014 858.245 L41.5014 850.033 L40.9285 850.033 Q36.8862 850.033 34.6901 852.707 Q32.4621 855.349 32.4621 860.155 Q32.4621 863.21 33.1941 866.107 Q33.9262 869.003 35.3903 871.677 L29.9795 871.677 Q28.7381 868.462 28.1334 865.438 Q27.4968 862.415 27.4968 859.55 Q27.4968 851.816 31.5072 847.996 Q35.5176 844.177 43.6657 844.177 Z\" fill=\"#000000\" fill-rule=\"nonzero\" fill-opacity=\"1\" /><path clip-path=\"url(#clip370)\" d=\"M14.479 832.114 L14.479 826.257 L64.0042 826.257 L64.0042 832.114 L14.479 832.114 Z\" fill=\"#000000\" fill-rule=\"nonzero\" fill-opacity=\"1\" /><path clip-path=\"url(#clip370)\" d=\"M14.479 814.004 L14.479 808.147 L64.0042 808.147 L64.0042 814.004 L14.479 814.004 Z\" fill=\"#000000\" fill-rule=\"nonzero\" fill-opacity=\"1\" /><path clip-path=\"url(#clip370)\" d=\"M18.2347 769.38 L28.3562 769.38 L28.3562 757.317 L32.9077 757.317 L32.9077 769.38 L52.2594 769.38 Q56.6199 769.38 57.8613 768.202 Q59.1026 766.993 59.1026 763.332 L59.1026 757.317 L64.0042 757.317 L64.0042 763.332 Q64.0042 770.112 61.4897 772.69 Q58.9434 775.268 52.2594 775.268 L32.9077 775.268 L32.9077 779.565 L28.3562 779.565 L28.3562 775.268 L18.2347 775.268 L18.2347 769.38 Z\" fill=\"#000000\" fill-rule=\"nonzero\" fill-opacity=\"1\" /><path clip-path=\"url(#clip370)\" d=\"M28.3562 749.614 L28.3562 743.758 L64.0042 743.758 L64.0042 749.614 L28.3562 749.614 M14.479 749.614 L14.479 743.758 L21.895 743.758 L21.895 749.614 L14.479 749.614 Z\" fill=\"#000000\" fill-rule=\"nonzero\" fill-opacity=\"1\" /><path clip-path=\"url(#clip370)\" d=\"M35.1993 703.749 Q31.2526 701.553 29.3747 698.498 Q27.4968 695.442 27.4968 691.305 Q27.4968 685.735 31.4117 682.711 Q35.2948 679.687 42.4881 679.687 L64.0042 679.687 L64.0042 685.575 L42.679 685.575 Q37.5546 685.575 35.072 687.39 Q32.5894 689.204 32.5894 692.928 Q32.5894 697.479 35.6131 700.121 Q38.6368 702.763 43.8567 702.763 L64.0042 702.763 L64.0042 708.651 L42.679 708.651 Q37.5228 708.651 35.072 710.465 Q32.5894 712.28 32.5894 716.067 Q32.5894 720.555 35.6449 723.197 Q38.6686 725.838 43.8567 725.838 L64.0042 725.838 L64.0042 731.727 L28.3562 731.727 L28.3562 725.838 L33.8944 725.838 Q30.616 723.833 29.0564 721.032 Q27.4968 718.231 27.4968 714.38 Q27.4968 710.497 29.4702 707.792 Q31.4436 705.054 35.1993 703.749 Z\" fill=\"#000000\" fill-rule=\"nonzero\" fill-opacity=\"1\" /><path clip-path=\"url(#clip370)\" d=\"M44.7161 637.514 L47.5806 637.514 L47.5806 664.441 Q53.6281 664.059 56.8109 660.813 Q59.9619 657.534 59.9619 651.71 Q59.9619 648.336 59.1344 645.185 Q58.3069 642.002 56.6518 638.883 L62.1899 638.883 Q63.5267 642.034 64.227 645.344 Q64.9272 648.654 64.9272 652.06 Q64.9272 660.59 59.9619 665.587 Q54.9967 670.552 46.5303 670.552 Q37.7774 670.552 32.6531 665.842 Q27.4968 661.099 27.4968 653.078 Q27.4968 645.885 32.1438 641.716 Q36.7589 637.514 44.7161 637.514 M42.9973 643.371 Q38.1912 643.434 35.3266 646.076 Q32.4621 648.686 32.4621 653.015 Q32.4621 657.916 35.2312 660.876 Q38.0002 663.805 43.0292 664.25 L42.9973 643.371 Z\" fill=\"#000000\" fill-rule=\"nonzero\" fill-opacity=\"1\" /><path clip-path=\"url(#clip370)\" d=\"M14.5426 593.113 Q21.8632 597.379 29.0246 599.447 Q36.186 601.516 43.5384 601.516 Q50.8908 601.516 58.1159 599.447 Q65.3091 597.347 72.5979 593.113 L72.5979 598.206 Q65.1182 602.98 57.8931 605.367 Q50.668 607.723 43.5384 607.723 Q36.4406 607.723 29.2474 605.367 Q22.0542 603.012 14.5426 598.206 L14.5426 593.113 Z\" fill=\"#000000\" fill-rule=\"nonzero\" fill-opacity=\"1\" /><path clip-path=\"url(#clip370)\" d=\"M29.4065 559.025 L34.9447 559.025 Q33.6716 561.508 33.035 564.181 Q32.3984 566.855 32.3984 569.72 Q32.3984 574.08 33.7352 576.276 Q35.072 578.441 37.7456 578.441 Q39.7826 578.441 40.9603 576.881 Q42.1061 575.321 43.1565 570.611 L43.6021 568.606 Q44.9389 562.367 47.3897 559.757 Q49.8086 557.115 54.1691 557.115 Q59.1344 557.115 62.0308 561.062 Q64.9272 564.977 64.9272 571.852 Q64.9272 574.717 64.3543 577.836 Q63.8132 580.923 62.6992 584.361 L56.6518 584.361 Q58.3387 581.114 59.198 577.963 Q60.0256 574.812 60.0256 571.725 Q60.0256 567.587 58.6251 565.359 Q57.1929 563.131 54.6147 563.131 Q52.2276 563.131 50.9545 564.754 Q49.6813 566.346 48.5037 571.788 L48.0262 573.825 Q46.8804 579.268 44.5251 581.687 Q42.138 584.106 38.0002 584.106 Q32.9713 584.106 30.2341 580.541 Q27.4968 576.976 27.4968 570.42 Q27.4968 567.173 27.9743 564.309 Q28.4517 561.444 29.4065 559.025 Z\" fill=\"#000000\" fill-rule=\"nonzero\" fill-opacity=\"1\" /><path clip-path=\"url(#clip370)\" d=\"M14.5426 548.713 L14.5426 543.62 Q22.0542 538.846 29.2474 536.491 Q36.4406 534.103 43.5384 534.103 Q50.668 534.103 57.8931 536.491 Q65.1182 538.846 72.5979 543.62 L72.5979 548.713 Q65.3091 544.479 58.1159 542.411 Q50.8908 540.31 43.5384 540.31 Q36.186 540.31 29.0246 542.411 Q21.8632 544.479 14.5426 548.713 Z\" fill=\"#000000\" fill-rule=\"nonzero\" fill-opacity=\"1\" /><polyline clip-path=\"url(#clip372)\" style=\"stroke:#0000ff; stroke-linecap:round; stroke-linejoin:round; stroke-width:4; stroke-opacity:1; fill:none\" points=\"316.401,86.1857 1304.92,690.189 1883.17,1079.19 2293.44,1329.31 \"/>\n",
       "<polyline clip-path=\"url(#clip372)\" style=\"stroke:#000000; stroke-linecap:round; stroke-linejoin:round; stroke-width:4; stroke-opacity:1; fill:none\" stroke-dasharray=\"2, 4\" points=\"316.401,86.1857 1304.92,735.212 1883.17,1114.87 2293.44,1384.24 \"/>\n",
       "<circle clip-path=\"url(#clip372)\" cx=\"316.401\" cy=\"86.1857\" r=\"10.8\" fill=\"#0000ff\" fill-rule=\"evenodd\" fill-opacity=\"1\" stroke=\"#000000\" stroke-opacity=\"1\" stroke-width=\"3.2\"/>\n",
       "<circle clip-path=\"url(#clip372)\" cx=\"1304.92\" cy=\"690.189\" r=\"10.8\" fill=\"#0000ff\" fill-rule=\"evenodd\" fill-opacity=\"1\" stroke=\"#000000\" stroke-opacity=\"1\" stroke-width=\"3.2\"/>\n",
       "<circle clip-path=\"url(#clip372)\" cx=\"1883.17\" cy=\"1079.19\" r=\"10.8\" fill=\"#0000ff\" fill-rule=\"evenodd\" fill-opacity=\"1\" stroke=\"#000000\" stroke-opacity=\"1\" stroke-width=\"3.2\"/>\n",
       "<circle clip-path=\"url(#clip372)\" cx=\"2293.44\" cy=\"1329.31\" r=\"10.8\" fill=\"#0000ff\" fill-rule=\"evenodd\" fill-opacity=\"1\" stroke=\"#000000\" stroke-opacity=\"1\" stroke-width=\"3.2\"/>\n",
       "<path clip-path=\"url(#clip370)\" d=\"M1929.63 248.629 L2282.9 248.629 L2282.9 93.1086 L1929.63 93.1086  Z\" fill=\"#ffffff\" fill-rule=\"evenodd\" fill-opacity=\"1\"/>\n",
       "<polyline clip-path=\"url(#clip370)\" style=\"stroke:#000000; stroke-linecap:round; stroke-linejoin:round; stroke-width:4; stroke-opacity:1; fill:none\" points=\"1929.63,248.629 2282.9,248.629 2282.9,93.1086 1929.63,93.1086 1929.63,248.629 \"/>\n",
       "<polyline clip-path=\"url(#clip370)\" style=\"stroke:#000000; stroke-linecap:round; stroke-linejoin:round; stroke-width:4; stroke-opacity:1; fill:none\" stroke-dasharray=\"2, 4\" points=\"1952.92,144.949 2092.63,144.949 \"/>\n",
       "<path clip-path=\"url(#clip370)\" d=\"M2115.91 127.669 L2120.59 127.669 L2120.59 162.229 L2115.91 162.229 L2115.91 127.669 Z\" fill=\"#000000\" fill-rule=\"nonzero\" fill-opacity=\"1\" /><path clip-path=\"url(#clip370)\" d=\"M2146.77 140.238 L2146.77 126.21 L2151.03 126.21 L2151.03 162.229 L2146.77 162.229 L2146.77 158.34 Q2145.43 160.655 2143.37 161.789 Q2141.33 162.9 2138.46 162.9 Q2133.76 162.9 2130.8 159.15 Q2127.86 155.4 2127.86 149.289 Q2127.86 143.178 2130.8 139.428 Q2133.76 135.678 2138.46 135.678 Q2141.33 135.678 2143.37 136.812 Q2145.43 137.923 2146.77 140.238 M2132.25 149.289 Q2132.25 153.988 2134.18 156.673 Q2136.12 159.335 2139.5 159.335 Q2142.88 159.335 2144.82 156.673 Q2146.77 153.988 2146.77 149.289 Q2146.77 144.59 2144.82 141.928 Q2142.88 139.243 2139.5 139.243 Q2136.12 139.243 2134.18 141.928 Q2132.25 144.59 2132.25 149.289 Z\" fill=\"#000000\" fill-rule=\"nonzero\" fill-opacity=\"1\" /><path clip-path=\"url(#clip370)\" d=\"M2181.98 148.201 L2181.98 150.284 L2162.39 150.284 Q2162.67 154.682 2165.03 156.997 Q2167.42 159.289 2171.65 159.289 Q2174.11 159.289 2176.4 158.687 Q2178.71 158.085 2180.98 156.881 L2180.98 160.909 Q2178.69 161.881 2176.28 162.391 Q2173.87 162.9 2171.4 162.9 Q2165.19 162.9 2161.56 159.289 Q2157.95 155.678 2157.95 149.52 Q2157.95 143.155 2161.37 139.428 Q2164.82 135.678 2170.66 135.678 Q2175.89 135.678 2178.92 139.057 Q2181.98 142.414 2181.98 148.201 M2177.72 146.951 Q2177.67 143.456 2175.75 141.372 Q2173.85 139.289 2170.7 139.289 Q2167.14 139.289 2164.99 141.303 Q2162.86 143.317 2162.53 146.974 L2177.72 146.951 Z\" fill=\"#000000\" fill-rule=\"nonzero\" fill-opacity=\"1\" /><path clip-path=\"url(#clip370)\" d=\"M2200.75 149.196 Q2195.59 149.196 2193.6 150.377 Q2191.61 151.557 2191.61 154.405 Q2191.61 156.673 2193.09 158.016 Q2194.59 159.335 2197.16 159.335 Q2200.7 159.335 2202.83 156.835 Q2204.99 154.312 2204.99 150.145 L2204.99 149.196 L2200.75 149.196 M2209.25 147.437 L2209.25 162.229 L2204.99 162.229 L2204.99 158.293 Q2203.53 160.655 2201.35 161.789 Q2199.18 162.9 2196.03 162.9 Q2192.05 162.9 2189.69 160.678 Q2187.35 158.432 2187.35 154.682 Q2187.35 150.307 2190.26 148.085 Q2193.2 145.863 2199.01 145.863 L2204.99 145.863 L2204.99 145.446 Q2204.99 142.507 2203.04 140.909 Q2201.12 139.289 2197.62 139.289 Q2195.4 139.289 2193.3 139.821 Q2191.19 140.354 2189.25 141.419 L2189.25 137.483 Q2191.58 136.581 2193.78 136.141 Q2195.98 135.678 2198.06 135.678 Q2203.69 135.678 2206.47 138.594 Q2209.25 141.511 2209.25 147.437 Z\" fill=\"#000000\" fill-rule=\"nonzero\" fill-opacity=\"1\" /><path clip-path=\"url(#clip370)\" d=\"M2218.02 126.21 L2222.28 126.21 L2222.28 162.229 L2218.02 162.229 L2218.02 126.21 Z\" fill=\"#000000\" fill-rule=\"nonzero\" fill-opacity=\"1\" /><circle clip-path=\"url(#clip370)\" cx=\"2022.77\" cy=\"196.789\" r=\"19.7486\" fill=\"#0000ff\" fill-rule=\"evenodd\" fill-opacity=\"1\" stroke=\"#000000\" stroke-opacity=\"1\" stroke-width=\"5.85143\"/>\n",
       "<path clip-path=\"url(#clip370)\" d=\"M2131.75 184.115 L2125.4 201.314 L2138.11 201.314 L2131.75 184.115 M2129.11 179.509 L2134.41 179.509 L2147.58 214.069 L2142.72 214.069 L2139.57 205.203 L2123.99 205.203 L2120.84 214.069 L2115.91 214.069 L2129.11 179.509 Z\" fill=\"#000000\" fill-rule=\"nonzero\" fill-opacity=\"1\" /><path clip-path=\"url(#clip370)\" d=\"M2170.26 189.138 L2170.26 193.12 Q2168.46 192.124 2166.63 191.638 Q2164.82 191.129 2162.97 191.129 Q2158.83 191.129 2156.54 193.768 Q2154.25 196.384 2154.25 201.129 Q2154.25 205.874 2156.54 208.513 Q2158.83 211.129 2162.97 211.129 Q2164.82 211.129 2166.63 210.643 Q2168.46 210.133 2170.26 209.138 L2170.26 213.073 Q2168.48 213.907 2166.56 214.323 Q2164.66 214.74 2162.51 214.74 Q2156.65 214.74 2153.2 211.059 Q2149.75 207.379 2149.75 201.129 Q2149.75 194.786 2153.23 191.152 Q2156.72 187.518 2162.79 187.518 Q2164.75 187.518 2166.63 187.935 Q2168.5 188.328 2170.26 189.138 Z\" fill=\"#000000\" fill-rule=\"nonzero\" fill-opacity=\"1\" /><path clip-path=\"url(#clip370)\" d=\"M2181.88 180.782 L2181.88 188.143 L2190.66 188.143 L2190.66 191.453 L2181.88 191.453 L2181.88 205.527 Q2181.88 208.698 2182.74 209.601 Q2183.62 210.504 2186.28 210.504 L2190.66 210.504 L2190.66 214.069 L2186.28 214.069 Q2181.35 214.069 2179.48 212.24 Q2177.6 210.388 2177.6 205.527 L2177.6 191.453 L2174.48 191.453 L2174.48 188.143 L2177.6 188.143 L2177.6 180.782 L2181.88 180.782 Z\" fill=\"#000000\" fill-rule=\"nonzero\" fill-opacity=\"1\" /><path clip-path=\"url(#clip370)\" d=\"M2195.82 203.837 L2195.82 188.143 L2200.08 188.143 L2200.08 203.675 Q2200.08 207.356 2201.51 209.208 Q2202.95 211.036 2205.82 211.036 Q2209.27 211.036 2211.26 208.837 Q2213.27 206.638 2213.27 202.842 L2213.27 188.143 L2217.53 188.143 L2217.53 214.069 L2213.27 214.069 L2213.27 210.087 Q2211.72 212.448 2209.66 213.606 Q2207.62 214.74 2204.92 214.74 Q2200.45 214.74 2198.13 211.962 Q2195.82 209.184 2195.82 203.837 M2206.54 187.518 L2206.54 187.518 Z\" fill=\"#000000\" fill-rule=\"nonzero\" fill-opacity=\"1\" /><path clip-path=\"url(#clip370)\" d=\"M2238.09 201.036 Q2232.93 201.036 2230.93 202.217 Q2228.94 203.397 2228.94 206.245 Q2228.94 208.513 2230.43 209.856 Q2231.93 211.175 2234.5 211.175 Q2238.04 211.175 2240.17 208.675 Q2242.32 206.152 2242.32 201.985 L2242.32 201.036 L2238.09 201.036 M2246.58 199.277 L2246.58 214.069 L2242.32 214.069 L2242.32 210.133 Q2240.87 212.495 2238.69 213.629 Q2236.51 214.74 2233.37 214.74 Q2229.38 214.74 2227.02 212.518 Q2224.68 210.272 2224.68 206.522 Q2224.68 202.147 2227.6 199.925 Q2230.54 197.703 2236.35 197.703 L2242.32 197.703 L2242.32 197.286 Q2242.32 194.347 2240.38 192.749 Q2238.46 191.129 2234.96 191.129 Q2232.74 191.129 2230.63 191.661 Q2228.53 192.194 2226.58 193.259 L2226.58 189.323 Q2228.92 188.421 2231.12 187.981 Q2233.32 187.518 2235.4 187.518 Q2241.03 187.518 2243.81 190.434 Q2246.58 193.351 2246.58 199.277 Z\" fill=\"#000000\" fill-rule=\"nonzero\" fill-opacity=\"1\" /><path clip-path=\"url(#clip370)\" d=\"M2255.36 178.05 L2259.62 178.05 L2259.62 214.069 L2255.36 214.069 L2255.36 178.05 Z\" fill=\"#000000\" fill-rule=\"nonzero\" fill-opacity=\"1\" /></svg>\n"
      ]
     },
     "execution_count": 28,
     "metadata": {},
     "output_type": "execute_result"
    }
   ],
   "source": [
    "plt = plot(xscale=:log10, yscale=:log10, xticks=(1:num_workers_all, 1:num_workers_all))\n",
    "plot!(plt, 1:num_workers_all,wall_time, linecolor=:blue, label=:none)\n",
    "ideal_scaling = wall_time[1]./(1:num_workers_all)\n",
    "plot!(plt, 1:num_workers_all,ideal_scaling, linecolor=:black, linestyle=:dot, label=\"Ideal\")\n",
    "scatter!(plt, 1:num_workers_all,wall_time, markersize=3, markercolor=:blue, label=\"Actual\")\n",
    "xlabel!(plt,\"Number of workers\")\n",
    "ylabel!(plt, \"Wall time (s)\")"
   ]
  },
  {
   "cell_type": "code",
   "execution_count": 29,
   "metadata": {},
   "outputs": [],
   "source": [
    "if haskey(ENV,\"SLURM_JOBID\")\n",
    "    jobid = \"_\" * ENV[\"SLURM_JOBID\"]\n",
    "else\n",
    "    jobid = \"\"\n",
    "end;"
   ]
  },
  {
   "cell_type": "code",
   "execution_count": 30,
   "metadata": {},
   "outputs": [
    {
     "data": {
      "text/plain": [
       "\"/storage/work/ebf11/Teach/Astro528/Fall2023/lab7-start/ex2_scaling_4_6079270.png\""
      ]
     },
     "execution_count": 30,
     "metadata": {},
     "output_type": "execute_result"
    }
   ],
   "source": [
    "savefig(plt, \"ex2_scaling_\" * string(num_workers_all) * jobid * \".png\")"
   ]
  },
  {
   "cell_type": "code",
   "execution_count": null,
   "metadata": {},
   "outputs": [],
   "source": []
  }
 ],
 "metadata": {
  "kernelspec": {
   "display_name": "Julia 1.9.2",
   "language": "julia",
   "name": "julia-1.9"
  },
  "language_info": {
   "file_extension": ".jl",
   "mimetype": "application/julia",
   "name": "julia",
   "version": "1.9.2"
  },
  "toc": {
   "base_numbering": 1,
   "nav_menu": {},
   "number_sections": true,
   "sideBar": true,
   "skip_h1_title": false,
   "title_cell": "Table of Contents",
   "title_sidebar": "Contents",
   "toc_cell": false,
   "toc_position": {},
   "toc_section_display": true,
   "toc_window_display": false
  },
  "varInspector": {
   "cols": {
    "lenName": 16,
    "lenType": 16,
    "lenVar": 40
   },
   "kernels_config": {
    "python": {
     "delete_cmd_postfix": "",
     "delete_cmd_prefix": "del ",
     "library": "var_list.py",
     "varRefreshCmd": "print(var_dic_list())"
    },
    "r": {
     "delete_cmd_postfix": ") ",
     "delete_cmd_prefix": "rm(",
     "library": "var_list.r",
     "varRefreshCmd": "cat(var_dic_list()) "
    }
   },
   "types_to_exclude": [
    "module",
    "function",
    "builtin_function_or_method",
    "instance",
    "_Feature"
   ],
   "window_display": false
  }
 },
 "nbformat": 4,
 "nbformat_minor": 4
}
